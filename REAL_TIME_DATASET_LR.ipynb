{
 "cells": [
  {
   "cell_type": "code",
   "execution_count": 2,
   "id": "062d1ab5",
   "metadata": {},
   "outputs": [],
   "source": [
    "import pandas as pd\n",
    "import numpy as np\n",
    "import matplotlib.pyplot as plt\n",
    "from sklearn.datasets import fetch_california_housing\n",
    "housing = fetch_california_housing()"
   ]
  },
  {
   "cell_type": "code",
   "execution_count": 44,
   "id": "fe20cd75",
   "metadata": {},
   "outputs": [
    {
     "data": {
      "text/plain": [
       "array([[   8.3252    ,   41.        ,    6.98412698, ...,    2.55555556,\n",
       "          37.88      , -122.23      ],\n",
       "       [   8.3014    ,   21.        ,    6.23813708, ...,    2.10984183,\n",
       "          37.86      , -122.22      ],\n",
       "       [   7.2574    ,   52.        ,    8.28813559, ...,    2.80225989,\n",
       "          37.85      , -122.24      ],\n",
       "       ...,\n",
       "       [   1.7       ,   17.        ,    5.20554273, ...,    2.3256351 ,\n",
       "          39.43      , -121.22      ],\n",
       "       [   1.8672    ,   18.        ,    5.32951289, ...,    2.12320917,\n",
       "          39.43      , -121.32      ],\n",
       "       [   2.3886    ,   16.        ,    5.25471698, ...,    2.61698113,\n",
       "          39.37      , -121.24      ]])"
      ]
     },
     "execution_count": 44,
     "metadata": {},
     "output_type": "execute_result"
    }
   ],
   "source": [
    "housing.data"
   ]
  },
  {
   "cell_type": "code",
   "execution_count": 45,
   "id": "bd58a663",
   "metadata": {},
   "outputs": [
    {
     "data": {
      "text/plain": [
       "['MedInc',\n",
       " 'HouseAge',\n",
       " 'AveRooms',\n",
       " 'AveBedrms',\n",
       " 'Population',\n",
       " 'AveOccup',\n",
       " 'Latitude',\n",
       " 'Longitude']"
      ]
     },
     "execution_count": 45,
     "metadata": {},
     "output_type": "execute_result"
    }
   ],
   "source": [
    "housing.feature_names"
   ]
  },
  {
   "cell_type": "code",
   "execution_count": 46,
   "id": "e89d59e8",
   "metadata": {},
   "outputs": [],
   "source": [
    "data = pd.DataFrame(housing.data, columns = housing.feature_names)\n",
    "dataset = pd.DataFrame(np.c_[data['MedInc'], data['HouseAge'], data['Population']], columns = ['MedInc', 'HouseAge', 'Population'])"
   ]
  },
  {
   "cell_type": "code",
   "execution_count": 47,
   "id": "3ebdd4d3",
   "metadata": {},
   "outputs": [
    {
     "data": {
      "text/html": [
       "<div>\n",
       "<style scoped>\n",
       "    .dataframe tbody tr th:only-of-type {\n",
       "        vertical-align: middle;\n",
       "    }\n",
       "\n",
       "    .dataframe tbody tr th {\n",
       "        vertical-align: top;\n",
       "    }\n",
       "\n",
       "    .dataframe thead th {\n",
       "        text-align: right;\n",
       "    }\n",
       "</style>\n",
       "<table border=\"1\" class=\"dataframe\">\n",
       "  <thead>\n",
       "    <tr style=\"text-align: right;\">\n",
       "      <th></th>\n",
       "      <th>MedInc</th>\n",
       "      <th>HouseAge</th>\n",
       "      <th>AveRooms</th>\n",
       "      <th>AveBedrms</th>\n",
       "      <th>Population</th>\n",
       "      <th>AveOccup</th>\n",
       "      <th>Latitude</th>\n",
       "      <th>Longitude</th>\n",
       "    </tr>\n",
       "  </thead>\n",
       "  <tbody>\n",
       "    <tr>\n",
       "      <th>0</th>\n",
       "      <td>8.3252</td>\n",
       "      <td>41.0</td>\n",
       "      <td>6.984127</td>\n",
       "      <td>1.023810</td>\n",
       "      <td>322.0</td>\n",
       "      <td>2.555556</td>\n",
       "      <td>37.88</td>\n",
       "      <td>-122.23</td>\n",
       "    </tr>\n",
       "    <tr>\n",
       "      <th>1</th>\n",
       "      <td>8.3014</td>\n",
       "      <td>21.0</td>\n",
       "      <td>6.238137</td>\n",
       "      <td>0.971880</td>\n",
       "      <td>2401.0</td>\n",
       "      <td>2.109842</td>\n",
       "      <td>37.86</td>\n",
       "      <td>-122.22</td>\n",
       "    </tr>\n",
       "    <tr>\n",
       "      <th>2</th>\n",
       "      <td>7.2574</td>\n",
       "      <td>52.0</td>\n",
       "      <td>8.288136</td>\n",
       "      <td>1.073446</td>\n",
       "      <td>496.0</td>\n",
       "      <td>2.802260</td>\n",
       "      <td>37.85</td>\n",
       "      <td>-122.24</td>\n",
       "    </tr>\n",
       "    <tr>\n",
       "      <th>3</th>\n",
       "      <td>5.6431</td>\n",
       "      <td>52.0</td>\n",
       "      <td>5.817352</td>\n",
       "      <td>1.073059</td>\n",
       "      <td>558.0</td>\n",
       "      <td>2.547945</td>\n",
       "      <td>37.85</td>\n",
       "      <td>-122.25</td>\n",
       "    </tr>\n",
       "    <tr>\n",
       "      <th>4</th>\n",
       "      <td>3.8462</td>\n",
       "      <td>52.0</td>\n",
       "      <td>6.281853</td>\n",
       "      <td>1.081081</td>\n",
       "      <td>565.0</td>\n",
       "      <td>2.181467</td>\n",
       "      <td>37.85</td>\n",
       "      <td>-122.25</td>\n",
       "    </tr>\n",
       "    <tr>\n",
       "      <th>...</th>\n",
       "      <td>...</td>\n",
       "      <td>...</td>\n",
       "      <td>...</td>\n",
       "      <td>...</td>\n",
       "      <td>...</td>\n",
       "      <td>...</td>\n",
       "      <td>...</td>\n",
       "      <td>...</td>\n",
       "    </tr>\n",
       "    <tr>\n",
       "      <th>20635</th>\n",
       "      <td>1.5603</td>\n",
       "      <td>25.0</td>\n",
       "      <td>5.045455</td>\n",
       "      <td>1.133333</td>\n",
       "      <td>845.0</td>\n",
       "      <td>2.560606</td>\n",
       "      <td>39.48</td>\n",
       "      <td>-121.09</td>\n",
       "    </tr>\n",
       "    <tr>\n",
       "      <th>20636</th>\n",
       "      <td>2.5568</td>\n",
       "      <td>18.0</td>\n",
       "      <td>6.114035</td>\n",
       "      <td>1.315789</td>\n",
       "      <td>356.0</td>\n",
       "      <td>3.122807</td>\n",
       "      <td>39.49</td>\n",
       "      <td>-121.21</td>\n",
       "    </tr>\n",
       "    <tr>\n",
       "      <th>20637</th>\n",
       "      <td>1.7000</td>\n",
       "      <td>17.0</td>\n",
       "      <td>5.205543</td>\n",
       "      <td>1.120092</td>\n",
       "      <td>1007.0</td>\n",
       "      <td>2.325635</td>\n",
       "      <td>39.43</td>\n",
       "      <td>-121.22</td>\n",
       "    </tr>\n",
       "    <tr>\n",
       "      <th>20638</th>\n",
       "      <td>1.8672</td>\n",
       "      <td>18.0</td>\n",
       "      <td>5.329513</td>\n",
       "      <td>1.171920</td>\n",
       "      <td>741.0</td>\n",
       "      <td>2.123209</td>\n",
       "      <td>39.43</td>\n",
       "      <td>-121.32</td>\n",
       "    </tr>\n",
       "    <tr>\n",
       "      <th>20639</th>\n",
       "      <td>2.3886</td>\n",
       "      <td>16.0</td>\n",
       "      <td>5.254717</td>\n",
       "      <td>1.162264</td>\n",
       "      <td>1387.0</td>\n",
       "      <td>2.616981</td>\n",
       "      <td>39.37</td>\n",
       "      <td>-121.24</td>\n",
       "    </tr>\n",
       "  </tbody>\n",
       "</table>\n",
       "<p>20640 rows × 8 columns</p>\n",
       "</div>"
      ],
      "text/plain": [
       "       MedInc  HouseAge  AveRooms  AveBedrms  Population  AveOccup  Latitude   \n",
       "0      8.3252      41.0  6.984127   1.023810       322.0  2.555556     37.88  \\\n",
       "1      8.3014      21.0  6.238137   0.971880      2401.0  2.109842     37.86   \n",
       "2      7.2574      52.0  8.288136   1.073446       496.0  2.802260     37.85   \n",
       "3      5.6431      52.0  5.817352   1.073059       558.0  2.547945     37.85   \n",
       "4      3.8462      52.0  6.281853   1.081081       565.0  2.181467     37.85   \n",
       "...       ...       ...       ...        ...         ...       ...       ...   \n",
       "20635  1.5603      25.0  5.045455   1.133333       845.0  2.560606     39.48   \n",
       "20636  2.5568      18.0  6.114035   1.315789       356.0  3.122807     39.49   \n",
       "20637  1.7000      17.0  5.205543   1.120092      1007.0  2.325635     39.43   \n",
       "20638  1.8672      18.0  5.329513   1.171920       741.0  2.123209     39.43   \n",
       "20639  2.3886      16.0  5.254717   1.162264      1387.0  2.616981     39.37   \n",
       "\n",
       "       Longitude  \n",
       "0        -122.23  \n",
       "1        -122.22  \n",
       "2        -122.24  \n",
       "3        -122.25  \n",
       "4        -122.25  \n",
       "...          ...  \n",
       "20635    -121.09  \n",
       "20636    -121.21  \n",
       "20637    -121.22  \n",
       "20638    -121.32  \n",
       "20639    -121.24  \n",
       "\n",
       "[20640 rows x 8 columns]"
      ]
     },
     "execution_count": 47,
     "metadata": {},
     "output_type": "execute_result"
    }
   ],
   "source": [
    "data"
   ]
  },
  {
   "cell_type": "code",
   "execution_count": 48,
   "id": "8d6d0caf",
   "metadata": {},
   "outputs": [
    {
     "data": {
      "text/html": [
       "<div>\n",
       "<style scoped>\n",
       "    .dataframe tbody tr th:only-of-type {\n",
       "        vertical-align: middle;\n",
       "    }\n",
       "\n",
       "    .dataframe tbody tr th {\n",
       "        vertical-align: top;\n",
       "    }\n",
       "\n",
       "    .dataframe thead th {\n",
       "        text-align: right;\n",
       "    }\n",
       "</style>\n",
       "<table border=\"1\" class=\"dataframe\">\n",
       "  <thead>\n",
       "    <tr style=\"text-align: right;\">\n",
       "      <th></th>\n",
       "      <th>MedInc</th>\n",
       "      <th>HouseAge</th>\n",
       "      <th>Population</th>\n",
       "    </tr>\n",
       "  </thead>\n",
       "  <tbody>\n",
       "    <tr>\n",
       "      <th>0</th>\n",
       "      <td>8.3252</td>\n",
       "      <td>41.0</td>\n",
       "      <td>322.0</td>\n",
       "    </tr>\n",
       "    <tr>\n",
       "      <th>1</th>\n",
       "      <td>8.3014</td>\n",
       "      <td>21.0</td>\n",
       "      <td>2401.0</td>\n",
       "    </tr>\n",
       "    <tr>\n",
       "      <th>2</th>\n",
       "      <td>7.2574</td>\n",
       "      <td>52.0</td>\n",
       "      <td>496.0</td>\n",
       "    </tr>\n",
       "    <tr>\n",
       "      <th>3</th>\n",
       "      <td>5.6431</td>\n",
       "      <td>52.0</td>\n",
       "      <td>558.0</td>\n",
       "    </tr>\n",
       "    <tr>\n",
       "      <th>4</th>\n",
       "      <td>3.8462</td>\n",
       "      <td>52.0</td>\n",
       "      <td>565.0</td>\n",
       "    </tr>\n",
       "    <tr>\n",
       "      <th>...</th>\n",
       "      <td>...</td>\n",
       "      <td>...</td>\n",
       "      <td>...</td>\n",
       "    </tr>\n",
       "    <tr>\n",
       "      <th>20635</th>\n",
       "      <td>1.5603</td>\n",
       "      <td>25.0</td>\n",
       "      <td>845.0</td>\n",
       "    </tr>\n",
       "    <tr>\n",
       "      <th>20636</th>\n",
       "      <td>2.5568</td>\n",
       "      <td>18.0</td>\n",
       "      <td>356.0</td>\n",
       "    </tr>\n",
       "    <tr>\n",
       "      <th>20637</th>\n",
       "      <td>1.7000</td>\n",
       "      <td>17.0</td>\n",
       "      <td>1007.0</td>\n",
       "    </tr>\n",
       "    <tr>\n",
       "      <th>20638</th>\n",
       "      <td>1.8672</td>\n",
       "      <td>18.0</td>\n",
       "      <td>741.0</td>\n",
       "    </tr>\n",
       "    <tr>\n",
       "      <th>20639</th>\n",
       "      <td>2.3886</td>\n",
       "      <td>16.0</td>\n",
       "      <td>1387.0</td>\n",
       "    </tr>\n",
       "  </tbody>\n",
       "</table>\n",
       "<p>20640 rows × 3 columns</p>\n",
       "</div>"
      ],
      "text/plain": [
       "       MedInc  HouseAge  Population\n",
       "0      8.3252      41.0       322.0\n",
       "1      8.3014      21.0      2401.0\n",
       "2      7.2574      52.0       496.0\n",
       "3      5.6431      52.0       558.0\n",
       "4      3.8462      52.0       565.0\n",
       "...       ...       ...         ...\n",
       "20635  1.5603      25.0       845.0\n",
       "20636  2.5568      18.0       356.0\n",
       "20637  1.7000      17.0      1007.0\n",
       "20638  1.8672      18.0       741.0\n",
       "20639  2.3886      16.0      1387.0\n",
       "\n",
       "[20640 rows x 3 columns]"
      ]
     },
     "execution_count": 48,
     "metadata": {},
     "output_type": "execute_result"
    }
   ],
   "source": [
    "dataset"
   ]
  },
  {
   "cell_type": "code",
   "execution_count": 49,
   "id": "2bdf7867",
   "metadata": {},
   "outputs": [],
   "source": [
    "#training dataset\n",
    "X = dataset[:-100]\n",
    "Y = housing.target[:-100]\n",
    "#testing dataset\n",
    "X_test = dataset[-100:]\n",
    "Y_test = housing.target[-100:]\n"
   ]
  },
  {
   "cell_type": "code",
   "execution_count": 50,
   "id": "9671b206",
   "metadata": {},
   "outputs": [],
   "source": [
    "u = np.mean(dataset, axis = 0)\n",
    "std = np.std(dataset, axis = 0)"
   ]
  },
  {
   "cell_type": "code",
   "execution_count": 51,
   "id": "f208e46b",
   "metadata": {},
   "outputs": [],
   "source": [
    "#trainig ko normalize\n",
    "X = (X - u)/std\n",
    "#testing ko normalize\n",
    "X_test = (X_test - u)/std"
   ]
  },
  {
   "cell_type": "code",
   "execution_count": 52,
   "id": "7d722500",
   "metadata": {},
   "outputs": [],
   "source": [
    "#convert it into numpy array\n",
    "X = np.array(X)\n",
    "Y = np.array(Y)"
   ]
  },
  {
   "cell_type": "code",
   "execution_count": 53,
   "id": "e0156134",
   "metadata": {},
   "outputs": [
    {
     "data": {
      "text/plain": [
       "array([[ 2.34476576,  0.98214266, -0.9744286 ],\n",
       "       [ 2.33223796, -0.60701891,  0.86143887],\n",
       "       [ 1.7826994 ,  1.85618152, -0.82077735],\n",
       "       [ 0.93296751,  1.85618152, -0.76602806],\n",
       "       [-0.012881  ,  1.85618152, -0.75984669]])"
      ]
     },
     "execution_count": 53,
     "metadata": {},
     "output_type": "execute_result"
    }
   ],
   "source": [
    "X[:5,:]"
   ]
  },
  {
   "cell_type": "code",
   "execution_count": 54,
   "id": "e1f4c7b6",
   "metadata": {},
   "outputs": [
    {
     "data": {
      "image/png": "[encoded data removed]",
      "text/plain": [
       "<Figure size 640x480 with 1 Axes>"
      ]
     },
     "metadata": {},
     "output_type": "display_data"
    }
   ],
   "source": [
    "plt.scatter(X[:,1], Y)\n",
    "plt.show()"
   ]
  },
  {
   "cell_type": "markdown",
   "id": "dda15086",
   "metadata": {},
   "source": [
    "# SINCE X[0] = 1 SO WE NEED TO STACK A COLUMN OF 1 IN X DATASET"
   ]
  },
  {
   "cell_type": "code",
   "execution_count": 55,
   "id": "91920302",
   "metadata": {},
   "outputs": [],
   "source": [
    "one = np.ones((X.shape[0], 1))"
   ]
  },
  {
   "cell_type": "code",
   "execution_count": 56,
   "id": "fcbe7840",
   "metadata": {},
   "outputs": [],
   "source": [
    "X = np.hstack((one, X))"
   ]
  },
  {
   "cell_type": "code",
   "execution_count": 57,
   "id": "38fa4def",
   "metadata": {},
   "outputs": [
    {
     "data": {
      "text/plain": [
       "array([[ 1.        ,  2.34476576,  0.98214266, -0.9744286 ],\n",
       "       [ 1.        ,  2.33223796, -0.60701891,  0.86143887],\n",
       "       [ 1.        ,  1.7826994 ,  1.85618152, -0.82077735],\n",
       "       ...,\n",
       "       [ 1.        , -1.47773814, -0.84539315, -0.79870102],\n",
       "       [ 1.        , -0.53125798,  0.10810379,  0.17442353],\n",
       "       [ 1.        ,  0.1837738 , -0.68647699,  2.3361376 ]])"
      ]
     },
     "execution_count": 57,
     "metadata": {},
     "output_type": "execute_result"
    }
   ],
   "source": [
    "X"
   ]
  },
  {
   "cell_type": "code",
   "execution_count": 60,
   "id": "7e9cf523",
   "metadata": {},
   "outputs": [
    {
     "name": "stdout",
     "output_type": "stream",
     "text": [
      "[[ 1.          2.34476576  0.98214266 -0.9744286 ]\n",
      " [ 1.          2.33223796 -0.60701891  0.86143887]\n",
      " [ 1.          1.7826994   1.85618152 -0.82077735]\n",
      " [ 1.          0.93296751  1.85618152 -0.76602806]\n",
      " [ 1.         -0.012881    1.85618152 -0.75984669]]\n",
      "(20540, 4)\n"
     ]
    }
   ],
   "source": [
    "print(X[:5, :])\n",
    "print(X.shape)"
   ]
  },
  {
   "cell_type": "code",
   "execution_count": 63,
   "id": "76a7a2bd",
   "metadata": {},
   "outputs": [
    {
     "name": "stdout",
     "output_type": "stream",
     "text": [
      "(4,)\n"
     ]
    }
   ],
   "source": [
    "#X[0].shape = first row or iski shape btari hai usme kitne columns hai (4,0) toh mtlb 4 columns hai isliye n = X.shape[0] lete hai\n",
    "print(X[0].shape)"
   ]
  },
  {
   "cell_type": "markdown",
   "id": "03e2fdb5",
   "metadata": {},
   "source": [
    "# NOW APPLY LINEAR REGRESSION "
   ]
  },
  {
   "cell_type": "code",
   "execution_count": 102,
   "id": "8f481375",
   "metadata": {},
   "outputs": [],
   "source": [
    "def hypothesis(X,theta):\n",
    "    y_ = 0\n",
    "    n = X.shape[0]\n",
    "    for i in range(n):\n",
    "        y_ = theta[i]*X[i]\n",
    "    return y_    "
   ]
  },
  {
   "cell_type": "code",
   "execution_count": 116,
   "id": "30f43e5f",
   "metadata": {},
   "outputs": [],
   "source": [
    "def cost(X,theta):\n",
    "    m = X.shape[0]         #no of rows and there is only one element in it only\n",
    "    \n",
    "    total_loss = 0\n",
    "    for i in range(m):\n",
    "        y_p = hypothesis(X[i],theta)   #X[i] is a row contianing only one element\n",
    "        \n",
    "        y_gt = Y[i]\n",
    "        \n",
    "        total_loss += (y_p - y_gt)**2\n",
    "        \n",
    "    return total_loss/m   "
   ]
  },
  {
   "cell_type": "code",
   "execution_count": 117,
   "id": "9041786f",
   "metadata": {},
   "outputs": [],
   "source": [
    "def gradient(X,Y,theta):\n",
    "    m,n = X.shape\n",
    "    \n",
    "    grad = np.zeros((n,))\n",
    "    \n",
    "    for j in range(n):\n",
    "        for i in range(m):\n",
    "            y_p = hypothesis(X[i], theta)\n",
    "            y_gt = Y[i]\n",
    "            \n",
    "            grad[j] += (y_p - y_gt)*X[i][j]\n",
    "    return grad/m\n",
    "        \n",
    "        "
   ]
  },
  {
   "cell_type": "code",
   "execution_count": 118,
   "id": "acd5e233",
   "metadata": {},
   "outputs": [],
   "source": [
    "def gradient_descent(X,Y, learning_rate = 0.003, epochs = 100):\n",
    "    m, n = X.shape\n",
    "    theta = np.zeros((n,))\n",
    "    cost_epoch = []\n",
    "    for i in range(epochs):\n",
    "        loss = cost(X,theta)\n",
    "        grad = gradient(X,Y,theta)\n",
    "        cost_epoch.append(loss)\n",
    "        \n",
    "        for j in range(n):\n",
    "             theta[j] = theta[j] - learning_rate*grad[j]\n",
    "                \n",
    "        return theta , cost_epoch       "
   ]
  },
  {
   "cell_type": "code",
   "execution_count": 119,
   "id": "5fb6f213",
   "metadata": {},
   "outputs": [],
   "source": [
    "theta , cost_epoch = gradient_descent(X, Y, learning_rate = 0.1, epochs = 1000)"
   ]
  },
  {
   "cell_type": "code",
   "execution_count": 120,
   "id": "4225d1a2",
   "metadata": {},
   "outputs": [
    {
     "data": {
      "text/plain": [
       "array([ 0.20734098,  0.08001738,  0.01241769, -0.00286706])"
      ]
     },
     "execution_count": 120,
     "metadata": {},
     "output_type": "execute_result"
    }
   ],
   "source": [
    "theta"
   ]
  },
  {
   "cell_type": "code",
   "execution_count": 121,
   "id": "abca0304",
   "metadata": {},
   "outputs": [
    {
     "data": {
      "text/plain": [
       "[5.630931285204433]"
      ]
     },
     "execution_count": 121,
     "metadata": {},
     "output_type": "execute_result"
    }
   ],
   "source": [
    "cost_epoch"
   ]
  },
  {
   "cell_type": "code",
   "execution_count": 129,
   "id": "04a5e7a6",
   "metadata": {},
   "outputs": [
    {
     "data": {
      "text/plain": [
       "[<matplotlib.lines.Line2D at 0x27171c1f210>]"
      ]
     },
     "execution_count": 129,
     "metadata": {},
     "output_type": "execute_result"
    },
    {
     "data": {
      "image/png": "[encoded data removed]",
      "text/plain": [
       "<Figure size 640x480 with 1 Axes>"
      ]
     },
     "metadata": {},
     "output_type": "display_data"
    }
   ],
   "source": [
    "plt.plot(cost_epoch, color = 'green')"
   ]
  },
  {
   "cell_type": "code",
   "execution_count": 122,
   "id": "6007a136",
   "metadata": {},
   "outputs": [
    {
     "data": {
      "text/plain": [
       "[<matplotlib.lines.Line2D at 0x2716fa110d0>]"
      ]
     },
     "execution_count": 122,
     "metadata": {},
     "output_type": "execute_result"
    },
    {
     "data": {
      "image/png": "[encoded data removed]",
      "text/plain": [
       "<Figure size 640x480 with 1 Axes>"
      ]
     },
     "metadata": {},
     "output_type": "display_data"
    }
   ],
   "source": [
    "plt.plot(theta, color = 'green')"
   ]
  },
  {
   "cell_type": "code",
   "execution_count": 111,
   "id": "ecee0f01",
   "metadata": {},
   "outputs": [],
   "source": [
    "def R2_score(y_t, y_p):\n",
    "    num = np.sum((y_t - y_p)**2)\n",
    "    den = np.sum((y_t - y_t.mean())**2)\n",
    "    score = (1-num/den)\n",
    "    return score"
   ]
  },
  {
   "cell_type": "code",
   "execution_count": 125,
   "id": "fd3e522f",
   "metadata": {},
   "outputs": [
    {
     "data": {
      "text/plain": [
       "(100, 3)"
      ]
     },
     "execution_count": 125,
     "metadata": {},
     "output_type": "execute_result"
    }
   ],
   "source": [
    "X_test.shape"
   ]
  },
  {
   "cell_type": "code",
   "execution_count": null,
   "id": "4698b792",
   "metadata": {},
   "outputs": [],
   "source": []
  }
 ],
 "metadata": {
  "kernelspec": {
   "display_name": "Python 3 (ipykernel)",
   "language": "python",
   "name": "python3"
  },
  "language_info": {
   "codemirror_mode": {
    "name": "ipython",
    "version": 3
   },
   "file_extension": ".py",
   "mimetype": "text/x-python",
   "name": "python",
   "nbconvert_exporter": "python",
   "pygments_lexer": "ipython3",
   "version": "3.11.3"
  }
 },
 "nbformat": 4,
 "nbformat_minor": 5
}
