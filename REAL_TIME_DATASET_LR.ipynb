{
 "cells": [
  {
   "cell_type": "code",
   "execution_count": 1,
   "id": "3cdd2843",
   "metadata": {},
   "outputs": [],
   "source": [
    "import pandas as pd\n",
    "import numpy as np\n",
    "import matplotlib.pyplot as plt\n",
    "from sklearn.datasets import fetch_california_housing\n",
    "housing = fetch_california_housing()"
   ]
  },
  {
   "cell_type": "code",
   "execution_count": 2,
   "id": "eef44a4d",
   "metadata": {},
   "outputs": [
    {
     "data": {
      "text/plain": [
       "array([[   8.3252    ,   41.        ,    6.98412698, ...,    2.55555556,\n",
       "          37.88      , -122.23      ],\n",
       "       [   8.3014    ,   21.        ,    6.23813708, ...,    2.10984183,\n",
       "          37.86      , -122.22      ],\n",
       "       [   7.2574    ,   52.        ,    8.28813559, ...,    2.80225989,\n",
       "          37.85      , -122.24      ],\n",
       "       ...,\n",
       "       [   1.7       ,   17.        ,    5.20554273, ...,    2.3256351 ,\n",
       "          39.43      , -121.22      ],\n",
       "       [   1.8672    ,   18.        ,    5.32951289, ...,    2.12320917,\n",
       "          39.43      , -121.32      ],\n",
       "       [   2.3886    ,   16.        ,    5.25471698, ...,    2.61698113,\n",
       "          39.37      , -121.24      ]])"
      ]
     },
     "execution_count": 2,
     "metadata": {},
     "output_type": "execute_result"
    }
   ],
   "source": [
    "housing.data"
   ]
  },
  {
   "cell_type": "code",
   "execution_count": 3,
   "id": "fc24481c",
   "metadata": {},
   "outputs": [
    {
     "data": {
      "text/plain": [
       "['MedInc',\n",
       " 'HouseAge',\n",
       " 'AveRooms',\n",
       " 'AveBedrms',\n",
       " 'Population',\n",
       " 'AveOccup',\n",
       " 'Latitude',\n",
       " 'Longitude']"
      ]
     },
     "execution_count": 3,
     "metadata": {},
     "output_type": "execute_result"
    }
   ],
   "source": [
    "housing.feature_names"
   ]
  },
  {
   "cell_type": "code",
   "execution_count": 4,
   "id": "0c140a06",
   "metadata": {},
   "outputs": [],
   "source": [
    "data = pd.DataFrame(housing.data, columns = housing.feature_names)\n",
    "dataset = pd.DataFrame(np.c_[data['MedInc'], data['HouseAge'], data['Population']], columns = ['MedInc', 'HouseAge', 'Population'])"
   ]
  },
  {
   "cell_type": "code",
   "execution_count": 5,
   "id": "f3d6706e",
   "metadata": {},
   "outputs": [
    {
     "data": {
      "text/html": [
       "<div>\n",
       "<style scoped>\n",
       "    .dataframe tbody tr th:only-of-type {\n",
       "        vertical-align: middle;\n",
       "    }\n",
       "\n",
       "    .dataframe tbody tr th {\n",
       "        vertical-align: top;\n",
       "    }\n",
       "\n",
       "    .dataframe thead th {\n",
       "        text-align: right;\n",
       "    }\n",
       "</style>\n",
       "<table border=\"1\" class=\"dataframe\">\n",
       "  <thead>\n",
       "    <tr style=\"text-align: right;\">\n",
       "      <th></th>\n",
       "      <th>MedInc</th>\n",
       "      <th>HouseAge</th>\n",
       "      <th>AveRooms</th>\n",
       "      <th>AveBedrms</th>\n",
       "      <th>Population</th>\n",
       "      <th>AveOccup</th>\n",
       "      <th>Latitude</th>\n",
       "      <th>Longitude</th>\n",
       "    </tr>\n",
       "  </thead>\n",
       "  <tbody>\n",
       "    <tr>\n",
       "      <th>0</th>\n",
       "      <td>8.3252</td>\n",
       "      <td>41.0</td>\n",
       "      <td>6.984127</td>\n",
       "      <td>1.023810</td>\n",
       "      <td>322.0</td>\n",
       "      <td>2.555556</td>\n",
       "      <td>37.88</td>\n",
       "      <td>-122.23</td>\n",
       "    </tr>\n",
       "    <tr>\n",
       "      <th>1</th>\n",
       "      <td>8.3014</td>\n",
       "      <td>21.0</td>\n",
       "      <td>6.238137</td>\n",
       "      <td>0.971880</td>\n",
       "      <td>2401.0</td>\n",
       "      <td>2.109842</td>\n",
       "      <td>37.86</td>\n",
       "      <td>-122.22</td>\n",
       "    </tr>\n",
       "    <tr>\n",
       "      <th>2</th>\n",
       "      <td>7.2574</td>\n",
       "      <td>52.0</td>\n",
       "      <td>8.288136</td>\n",
       "      <td>1.073446</td>\n",
       "      <td>496.0</td>\n",
       "      <td>2.802260</td>\n",
       "      <td>37.85</td>\n",
       "      <td>-122.24</td>\n",
       "    </tr>\n",
       "    <tr>\n",
       "      <th>3</th>\n",
       "      <td>5.6431</td>\n",
       "      <td>52.0</td>\n",
       "      <td>5.817352</td>\n",
       "      <td>1.073059</td>\n",
       "      <td>558.0</td>\n",
       "      <td>2.547945</td>\n",
       "      <td>37.85</td>\n",
       "      <td>-122.25</td>\n",
       "    </tr>\n",
       "    <tr>\n",
       "      <th>4</th>\n",
       "      <td>3.8462</td>\n",
       "      <td>52.0</td>\n",
       "      <td>6.281853</td>\n",
       "      <td>1.081081</td>\n",
       "      <td>565.0</td>\n",
       "      <td>2.181467</td>\n",
       "      <td>37.85</td>\n",
       "      <td>-122.25</td>\n",
       "    </tr>\n",
       "    <tr>\n",
       "      <th>...</th>\n",
       "      <td>...</td>\n",
       "      <td>...</td>\n",
       "      <td>...</td>\n",
       "      <td>...</td>\n",
       "      <td>...</td>\n",
       "      <td>...</td>\n",
       "      <td>...</td>\n",
       "      <td>...</td>\n",
       "    </tr>\n",
       "    <tr>\n",
       "      <th>20635</th>\n",
       "      <td>1.5603</td>\n",
       "      <td>25.0</td>\n",
       "      <td>5.045455</td>\n",
       "      <td>1.133333</td>\n",
       "      <td>845.0</td>\n",
       "      <td>2.560606</td>\n",
       "      <td>39.48</td>\n",
       "      <td>-121.09</td>\n",
       "    </tr>\n",
       "    <tr>\n",
       "      <th>20636</th>\n",
       "      <td>2.5568</td>\n",
       "      <td>18.0</td>\n",
       "      <td>6.114035</td>\n",
       "      <td>1.315789</td>\n",
       "      <td>356.0</td>\n",
       "      <td>3.122807</td>\n",
       "      <td>39.49</td>\n",
       "      <td>-121.21</td>\n",
       "    </tr>\n",
       "    <tr>\n",
       "      <th>20637</th>\n",
       "      <td>1.7000</td>\n",
       "      <td>17.0</td>\n",
       "      <td>5.205543</td>\n",
       "      <td>1.120092</td>\n",
       "      <td>1007.0</td>\n",
       "      <td>2.325635</td>\n",
       "      <td>39.43</td>\n",
       "      <td>-121.22</td>\n",
       "    </tr>\n",
       "    <tr>\n",
       "      <th>20638</th>\n",
       "      <td>1.8672</td>\n",
       "      <td>18.0</td>\n",
       "      <td>5.329513</td>\n",
       "      <td>1.171920</td>\n",
       "      <td>741.0</td>\n",
       "      <td>2.123209</td>\n",
       "      <td>39.43</td>\n",
       "      <td>-121.32</td>\n",
       "    </tr>\n",
       "    <tr>\n",
       "      <th>20639</th>\n",
       "      <td>2.3886</td>\n",
       "      <td>16.0</td>\n",
       "      <td>5.254717</td>\n",
       "      <td>1.162264</td>\n",
       "      <td>1387.0</td>\n",
       "      <td>2.616981</td>\n",
       "      <td>39.37</td>\n",
       "      <td>-121.24</td>\n",
       "    </tr>\n",
       "  </tbody>\n",
       "</table>\n",
       "<p>20640 rows × 8 columns</p>\n",
       "</div>"
      ],
      "text/plain": [
       "       MedInc  HouseAge  AveRooms  AveBedrms  Population  AveOccup  Latitude   \n",
       "0      8.3252      41.0  6.984127   1.023810       322.0  2.555556     37.88  \\\n",
       "1      8.3014      21.0  6.238137   0.971880      2401.0  2.109842     37.86   \n",
       "2      7.2574      52.0  8.288136   1.073446       496.0  2.802260     37.85   \n",
       "3      5.6431      52.0  5.817352   1.073059       558.0  2.547945     37.85   \n",
       "4      3.8462      52.0  6.281853   1.081081       565.0  2.181467     37.85   \n",
       "...       ...       ...       ...        ...         ...       ...       ...   \n",
       "20635  1.5603      25.0  5.045455   1.133333       845.0  2.560606     39.48   \n",
       "20636  2.5568      18.0  6.114035   1.315789       356.0  3.122807     39.49   \n",
       "20637  1.7000      17.0  5.205543   1.120092      1007.0  2.325635     39.43   \n",
       "20638  1.8672      18.0  5.329513   1.171920       741.0  2.123209     39.43   \n",
       "20639  2.3886      16.0  5.254717   1.162264      1387.0  2.616981     39.37   \n",
       "\n",
       "       Longitude  \n",
       "0        -122.23  \n",
       "1        -122.22  \n",
       "2        -122.24  \n",
       "3        -122.25  \n",
       "4        -122.25  \n",
       "...          ...  \n",
       "20635    -121.09  \n",
       "20636    -121.21  \n",
       "20637    -121.22  \n",
       "20638    -121.32  \n",
       "20639    -121.24  \n",
       "\n",
       "[20640 rows x 8 columns]"
      ]
     },
     "execution_count": 5,
     "metadata": {},
     "output_type": "execute_result"
    }
   ],
   "source": [
    "data"
   ]
  },
  {
   "cell_type": "code",
   "execution_count": 6,
   "id": "18f51535",
   "metadata": {},
   "outputs": [
    {
     "data": {
      "text/html": [
       "<div>\n",
       "<style scoped>\n",
       "    .dataframe tbody tr th:only-of-type {\n",
       "        vertical-align: middle;\n",
       "    }\n",
       "\n",
       "    .dataframe tbody tr th {\n",
       "        vertical-align: top;\n",
       "    }\n",
       "\n",
       "    .dataframe thead th {\n",
       "        text-align: right;\n",
       "    }\n",
       "</style>\n",
       "<table border=\"1\" class=\"dataframe\">\n",
       "  <thead>\n",
       "    <tr style=\"text-align: right;\">\n",
       "      <th></th>\n",
       "      <th>MedInc</th>\n",
       "      <th>HouseAge</th>\n",
       "      <th>Population</th>\n",
       "    </tr>\n",
       "  </thead>\n",
       "  <tbody>\n",
       "    <tr>\n",
       "      <th>0</th>\n",
       "      <td>8.3252</td>\n",
       "      <td>41.0</td>\n",
       "      <td>322.0</td>\n",
       "    </tr>\n",
       "    <tr>\n",
       "      <th>1</th>\n",
       "      <td>8.3014</td>\n",
       "      <td>21.0</td>\n",
       "      <td>2401.0</td>\n",
       "    </tr>\n",
       "    <tr>\n",
       "      <th>2</th>\n",
       "      <td>7.2574</td>\n",
       "      <td>52.0</td>\n",
       "      <td>496.0</td>\n",
       "    </tr>\n",
       "    <tr>\n",
       "      <th>3</th>\n",
       "      <td>5.6431</td>\n",
       "      <td>52.0</td>\n",
       "      <td>558.0</td>\n",
       "    </tr>\n",
       "    <tr>\n",
       "      <th>4</th>\n",
       "      <td>3.8462</td>\n",
       "      <td>52.0</td>\n",
       "      <td>565.0</td>\n",
       "    </tr>\n",
       "    <tr>\n",
       "      <th>...</th>\n",
       "      <td>...</td>\n",
       "      <td>...</td>\n",
       "      <td>...</td>\n",
       "    </tr>\n",
       "    <tr>\n",
       "      <th>20635</th>\n",
       "      <td>1.5603</td>\n",
       "      <td>25.0</td>\n",
       "      <td>845.0</td>\n",
       "    </tr>\n",
       "    <tr>\n",
       "      <th>20636</th>\n",
       "      <td>2.5568</td>\n",
       "      <td>18.0</td>\n",
       "      <td>356.0</td>\n",
       "    </tr>\n",
       "    <tr>\n",
       "      <th>20637</th>\n",
       "      <td>1.7000</td>\n",
       "      <td>17.0</td>\n",
       "      <td>1007.0</td>\n",
       "    </tr>\n",
       "    <tr>\n",
       "      <th>20638</th>\n",
       "      <td>1.8672</td>\n",
       "      <td>18.0</td>\n",
       "      <td>741.0</td>\n",
       "    </tr>\n",
       "    <tr>\n",
       "      <th>20639</th>\n",
       "      <td>2.3886</td>\n",
       "      <td>16.0</td>\n",
       "      <td>1387.0</td>\n",
       "    </tr>\n",
       "  </tbody>\n",
       "</table>\n",
       "<p>20640 rows × 3 columns</p>\n",
       "</div>"
      ],
      "text/plain": [
       "       MedInc  HouseAge  Population\n",
       "0      8.3252      41.0       322.0\n",
       "1      8.3014      21.0      2401.0\n",
       "2      7.2574      52.0       496.0\n",
       "3      5.6431      52.0       558.0\n",
       "4      3.8462      52.0       565.0\n",
       "...       ...       ...         ...\n",
       "20635  1.5603      25.0       845.0\n",
       "20636  2.5568      18.0       356.0\n",
       "20637  1.7000      17.0      1007.0\n",
       "20638  1.8672      18.0       741.0\n",
       "20639  2.3886      16.0      1387.0\n",
       "\n",
       "[20640 rows x 3 columns]"
      ]
     },
     "execution_count": 6,
     "metadata": {},
     "output_type": "execute_result"
    }
   ],
   "source": [
    "dataset"
   ]
  },
  {
   "cell_type": "code",
   "execution_count": 7,
   "id": "c0350783",
   "metadata": {},
   "outputs": [],
   "source": [
    "#training dataset\n",
    "X = dataset[:-100]\n",
    "Y = housing.target[:-100]\n",
    "#testing dataset\n",
    "X_test = dataset[-100:]\n",
    "Y_test = housing.target[-100:]\n"
   ]
  },
  {
   "cell_type": "code",
   "execution_count": 8,
   "id": "28991fa5",
   "metadata": {},
   "outputs": [],
   "source": [
    "u = np.mean(dataset, axis = 0)\n",
    "std = np.std(dataset, axis = 0)"
   ]
  },
  {
   "cell_type": "code",
   "execution_count": 9,
   "id": "d4aa769e",
   "metadata": {},
   "outputs": [],
   "source": [
    "#trainig ko normalize\n",
    "X = (X - u)/std\n",
    "#testing ko normalize\n",
    "X_test = (X_test - u)/std"
   ]
  },
  {
   "cell_type": "code",
   "execution_count": 10,
   "id": "c4d49fb3",
   "metadata": {},
   "outputs": [],
   "source": [
    "#convert it into numpy array\n",
    "X = np.array(X)\n",
    "Y = np.array(Y)"
   ]
  },
  {
   "cell_type": "code",
   "execution_count": 11,
   "id": "9bcd0e16",
   "metadata": {},
   "outputs": [
    {
     "data": {
      "text/plain": [
       "array([[ 2.34476576,  0.98214266, -0.9744286 ],\n",
       "       [ 2.33223796, -0.60701891,  0.86143887],\n",
       "       [ 1.7826994 ,  1.85618152, -0.82077735],\n",
       "       [ 0.93296751,  1.85618152, -0.76602806],\n",
       "       [-0.012881  ,  1.85618152, -0.75984669]])"
      ]
     },
     "execution_count": 11,
     "metadata": {},
     "output_type": "execute_result"
    }
   ],
   "source": [
    "X[:5,:]"
   ]
  },
  {
   "cell_type": "code",
   "execution_count": 189,
   "id": "92d58d98",
   "metadata": {},
   "outputs": [
    {
     "data": {
      "image/png": "[encoded data removed]",
      "text/plain": [
       "<Figure size 640x480 with 1 Axes>"
      ]
     },
     "metadata": {},
     "output_type": "display_data"
    }
   ],
   "source": [
    "plt.scatter(X[:,1], Y)\n",
    "plt.show()"
   ]
  },
  {
   "cell_type": "markdown",
   "id": "5a35fdba",
   "metadata": {},
   "source": [
    "# SINCE X[0] = 1 SO WE NEED TO STACK A COLUMN OF 1 IN X DATASET"
   ]
  },
  {
   "cell_type": "code",
   "execution_count": 13,
   "id": "803e2649",
   "metadata": {},
   "outputs": [],
   "source": [
    "one = np.ones((X.shape[0], 1))"
   ]
  },
  {
   "cell_type": "code",
   "execution_count": 14,
   "id": "42cf1da5",
   "metadata": {},
   "outputs": [],
   "source": [
    "X = np.hstack((one, X))"
   ]
  },
  {
   "cell_type": "code",
   "execution_count": 192,
   "id": "358707fd",
   "metadata": {},
   "outputs": [
    {
     "data": {
      "text/plain": [
       "array([[ 1.        , -0.41978194,  0.28482986, ..., -1.45900038,\n",
       "         0.44105193, -1.0755623 ],\n",
       "       [ 1.        , -0.41733926, -0.48772236, ..., -0.30309415,\n",
       "         0.44105193, -0.49243937],\n",
       "       [ 1.        , -0.41734159, -0.48772236, ..., -0.30309415,\n",
       "         0.39642699, -1.2087274 ],\n",
       "       ...,\n",
       "       [ 1.        ,  2.46573659, -0.48772236, ...,  0.80657583,\n",
       "         0.44105193,  0.99760795],\n",
       "       [ 1.        ,  4.41236983, -0.48772236, ...,  0.80657583,\n",
       "        -0.2983844 ,  2.06433044],\n",
       "       [ 1.        ,  7.48364564, -0.48772236, ...,  0.80657583,\n",
       "         0.31024714,  1.4475658 ]])"
      ]
     },
     "execution_count": 192,
     "metadata": {},
     "output_type": "execute_result"
    }
   ],
   "source": [
    "X"
   ]
  },
  {
   "cell_type": "code",
   "execution_count": 193,
   "id": "12dda48c",
   "metadata": {},
   "outputs": [
    {
     "name": "stdout",
     "output_type": "stream",
     "text": [
      "[[ 1.         -0.41978194  0.28482986 -1.2879095  -0.27259857 -0.14421743\n",
      "   0.41367189 -0.12001342  0.1402136  -0.98284286 -0.66660821 -1.45900038\n",
      "   0.44105193 -1.0755623 ]\n",
      " [ 1.         -0.41733926 -0.48772236 -0.59338101 -0.27259857 -0.74026221\n",
      "   0.19427445  0.36716642  0.55715988 -0.8678825  -0.98732948 -0.30309415\n",
      "   0.44105193 -0.49243937]\n",
      " [ 1.         -0.41734159 -0.48772236 -0.59338101 -0.27259857 -0.74026221\n",
      "   1.28271368 -0.26581176  0.55715988 -0.8678825  -0.98732948 -0.30309415\n",
      "   0.39642699 -1.2087274 ]\n",
      " [ 1.         -0.41675042 -0.48772236 -1.30687771 -0.27259857 -0.83528384\n",
      "   1.01630251 -0.80988851  1.07773662 -0.75292215 -1.10611514  0.1130321\n",
      "   0.41616284 -1.36151682]\n",
      " [ 1.         -0.41248185 -0.48772236 -1.30687771 -0.27259857 -0.83528384\n",
      "   1.22857665 -0.51117971  1.07773662 -0.75292215 -1.10611514  0.1130321\n",
      "   0.44105193 -1.02650148]]\n",
      "(406, 14)\n"
     ]
    }
   ],
   "source": [
    "print(X[:5, :])\n",
    "print(X.shape)"
   ]
  },
  {
   "cell_type": "code",
   "execution_count": 194,
   "id": "9b7f14f2",
   "metadata": {},
   "outputs": [
    {
     "name": "stdout",
     "output_type": "stream",
     "text": [
      "(14,)\n"
     ]
    }
   ],
   "source": [
    "#X[0].shape = first row or iski shape btari hai usme kitne columns hai (4,0) toh mtlb 4 columns hai isliye n = X.shape[0] lete hai\n",
    "print(X[0].shape)"
   ]
  },
  {
   "cell_type": "code",
   "execution_count": null,
   "id": "c30b17c5",
   "metadata": {},
   "outputs": [],
   "source": []
  },
  {
   "cell_type": "markdown",
   "id": "5d1e9099",
   "metadata": {},
   "source": [
    "# NOW APPLY LINEAR REGRESSION "
   ]
  },
  {
   "cell_type": "code",
   "execution_count": 382,
   "id": "64af8716",
   "metadata": {},
   "outputs": [],
   "source": [
    "def hypothesis(X,theta):\n",
    "    y_ = 0\n",
    "    n = X.shape[0]\n",
    "    for i in range(n):\n",
    "        y_ = theta[i]*X[i]\n",
    "    return y_    "
   ]
  },
  {
   "cell_type": "code",
   "execution_count": 383,
   "id": "043103b1",
   "metadata": {},
   "outputs": [],
   "source": [
    "def cost(X,theta):\n",
    "    m = X.shape[0]         #no of rows and there is only one element in it only\n",
    "    \n",
    "    total_loss = 0\n",
    "    for i in range(m):\n",
    "        y_p = hypothesis(X[i],theta)   #X[i] is a row contianing only one element\n",
    "        \n",
    "        y_gt = Y[i]\n",
    "        \n",
    "        total_loss += (y_p - y_gt)**2\n",
    "        \n",
    "    return total_loss/m   "
   ]
  },
  {
   "cell_type": "code",
   "execution_count": 384,
   "id": "35b68ee4",
   "metadata": {},
   "outputs": [],
   "source": [
    "def gradient(X,Y,theta):\n",
    "    m,n = X.shape\n",
    "    \n",
    "    grad = np.zeros((n,))\n",
    "    \n",
    "    for j in range(n):\n",
    "        for i in range(m):\n",
    "            y_p = hypothesis(X[i], theta)\n",
    "            y_gt = Y[i]\n",
    "            \n",
    "            grad[j] += (y_p - y_gt)*X[i][j]\n",
    "    return grad/m\n",
    "        \n",
    "        "
   ]
  },
  {
   "cell_type": "code",
   "execution_count": 385,
   "id": "cfb9ffc5",
   "metadata": {},
   "outputs": [],
   "source": [
    "def gradient_descent(X,Y, learning_rate = 0.003, epochs = 100):\n",
    "    m, n = X.shape\n",
    "    theta = np.zeros((n,))\n",
    "    cost_epoch = []\n",
    "    for i in range(epochs):\n",
    "        loss = cost(X,theta)\n",
    "        grad = gradient(X,Y,theta)\n",
    "        cost_epoch.append(loss)\n",
    "        \n",
    "        for j in range(n):\n",
    "             theta[j] = theta[j] - learning_rate*grad[j]\n",
    "                \n",
    "        return theta , cost_epoch       "
   ]
  },
  {
   "cell_type": "code",
   "execution_count": 386,
   "id": "fe36386c",
   "metadata": {},
   "outputs": [],
   "source": [
    "theta , cost_epoch = gradient_descent(X, Y, learning_rate = 0.1, epochs = 1000)"
   ]
  },
  {
   "cell_type": "code",
   "execution_count": 387,
   "id": "07f7aa4f",
   "metadata": {},
   "outputs": [
    {
     "ename": "NameError",
     "evalue": "name 'array' is not defined",
     "output_type": "error",
     "traceback": [
      "\u001b[1;31m---------------------------------------------------------------------------\u001b[0m",
      "\u001b[1;31mNameError\u001b[0m                                 Traceback (most recent call last)",
      "Cell \u001b[1;32mIn[387], line 1\u001b[0m\n\u001b[1;32m----> 1\u001b[0m \u001b[43marray\u001b[49m([ \u001b[38;5;241m2.07340982e-03\u001b[39m,  \u001b[38;5;241m8.00173806e-04\u001b[39m,  \u001b[38;5;241m1.24176944e-04\u001b[39m, \u001b[38;5;241m-\u001b[39m\u001b[38;5;241m2.86705535e-05\u001b[39m])\n",
      "\u001b[1;31mNameError\u001b[0m: name 'array' is not defined"
     ]
    }
   ],
   "source": [
    "array([ 2.07340982e-03,  8.00173806e-04,  1.24176944e-04, -2.86705535e-05])\n"
   ]
  },
  {
   "cell_type": "code",
   "execution_count": 388,
   "id": "812a26f2",
   "metadata": {},
   "outputs": [
    {
     "data": {
      "text/plain": [
       "array([ 2.40899015, -0.65517073,  0.60748901, -0.91017706,  0.30953634,\n",
       "       -0.76414416,  0.87918816, -0.62990211,  0.55196199, -0.91539804,\n",
       "       -1.02852959, -0.89342741,  0.67081485, -1.05465239])"
      ]
     },
     "execution_count": 388,
     "metadata": {},
     "output_type": "execute_result"
    }
   ],
   "source": [
    "theta"
   ]
  },
  {
   "cell_type": "code",
   "execution_count": 389,
   "id": "2bfcec2f",
   "metadata": {},
   "outputs": [
    {
     "data": {
      "text/plain": [
       "array([4.526, 3.585, 3.521, ..., 0.923, 0.847, 0.894])"
      ]
     },
     "execution_count": 389,
     "metadata": {},
     "output_type": "execute_result"
    }
   ],
   "source": [
    "housing.target"
   ]
  },
  {
   "cell_type": "code",
   "execution_count": 390,
   "id": "f30fb664",
   "metadata": {},
   "outputs": [
    {
     "data": {
      "text/plain": [
       "[666.9598768472904]"
      ]
     },
     "execution_count": 390,
     "metadata": {},
     "output_type": "execute_result"
    }
   ],
   "source": [
    "cost_epoch"
   ]
  },
  {
   "cell_type": "code",
   "execution_count": 26,
   "id": "f0521d45",
   "metadata": {},
   "outputs": [
    {
     "data": {
      "text/plain": [
       "[<matplotlib.lines.Line2D at 0x1f36a8352d0>]"
      ]
     },
     "execution_count": 26,
     "metadata": {},
     "output_type": "execute_result"
    },
    {
     "data": {
      "image/png": "[encoded data removed]",
      "text/plain": [
       "<Figure size 640x480 with 1 Axes>"
      ]
     },
     "metadata": {},
     "output_type": "display_data"
    }
   ],
   "source": [
    "plt.plot(cost_epoch, color = 'green')"
   ]
  },
  {
   "cell_type": "code",
   "execution_count": 27,
   "id": "91f2a326",
   "metadata": {},
   "outputs": [
    {
     "data": {
      "text/plain": [
       "[<matplotlib.lines.Line2D at 0x1f36a8552d0>]"
      ]
     },
     "execution_count": 27,
     "metadata": {},
     "output_type": "execute_result"
    },
    {
     "data": {
      "image/png": "[encoded data removed]",
      "text/plain": [
       "<Figure size 640x480 with 1 Axes>"
      ]
     },
     "metadata": {},
     "output_type": "display_data"
    }
   ],
   "source": [
    "plt.plot(theta, color = 'green')"
   ]
  },
  {
   "cell_type": "code",
   "execution_count": 28,
   "id": "c25e18bd",
   "metadata": {},
   "outputs": [],
   "source": [
    "def R2_score(y_t, y_p):\n",
    "    num = np.sum((y_t - y_p)**2)\n",
    "    den = np.sum((y_t - y_t.mean())**2)\n",
    "    score = (1-num/den)\n",
    "    return score"
   ]
  },
  {
   "cell_type": "code",
   "execution_count": 29,
   "id": "6c4224ee",
   "metadata": {},
   "outputs": [
    {
     "data": {
      "text/plain": [
       "(100, 3)"
      ]
     },
     "execution_count": 29,
     "metadata": {},
     "output_type": "execute_result"
    }
   ],
   "source": [
    "X_test.shape"
   ]
  },
  {
   "cell_type": "code",
   "execution_count": 30,
   "id": "030a1c2b",
   "metadata": {},
   "outputs": [],
   "source": [
    "one = np.ones((X_test.shape[0], 1))"
   ]
  },
  {
   "cell_type": "code",
   "execution_count": 31,
   "id": "1c0a67a4",
   "metadata": {},
   "outputs": [],
   "source": [
    "X_test = np.hstack((one, X_test))"
   ]
  },
  {
   "cell_type": "code",
   "execution_count": 32,
   "id": "b223605e",
   "metadata": {},
   "outputs": [
    {
     "name": "stdout",
     "output_type": "stream",
     "text": [
      "[[ 1.         -0.35786909 -1.00430931 -0.03486006]\n",
      " [ 1.          0.39574619 -1.24268354  1.23850256]\n",
      " [ 1.          0.45275292  0.34647803 -0.39426269]\n",
      " [ 1.         -1.12622296  0.34647803  2.02353679]]\n"
     ]
    }
   ],
   "source": [
    "print(X_test[:4,:])\n"
   ]
  },
  {
   "cell_type": "code",
   "execution_count": 33,
   "id": "a3679499",
   "metadata": {},
   "outputs": [],
   "source": [
    "y_pred_test = []\n",
    "for i in range(X_test.shape[0]):\n",
    "    pred = hypothesis(X_test[i], theta)\n",
    "    y_pred_test.append(pred)\n",
    "y_pred_test = np.array(y_pred_test)    "
   ]
  },
  {
   "cell_type": "code",
   "execution_count": 34,
   "id": "4bac30a3",
   "metadata": {},
   "outputs": [
    {
     "name": "stdout",
     "output_type": "stream",
     "text": [
      "9.994572933244744e-05 1.943\n",
      "-0.003550855385829694 2.265\n",
      "0.0011303729511569908 2.362\n",
      "-0.005801591995662664 1.826\n",
      "-0.01241708666550918 2.194\n",
      "-0.001958376952100854 2.277\n",
      "0.0016468524431771548 1.231\n",
      "-0.0009988390723182942 1.079\n",
      "0.001834202847145254 0.694\n",
      "-0.0017533042126222594 1.222\n",
      "0.0009227684494626109 1.031\n",
      "-0.0003886843783140805 0.958\n",
      "-0.0010671966521444923 1.206\n",
      "-0.002024202769711267 0.953\n",
      "-0.00059122535557689 0.978\n",
      "-0.0006950276064240799 1.72\n",
      "-0.0011406177564022607 1.525\n",
      "-0.0010874507498707733 1.194\n",
      "0.0008923873028731895 1.544\n",
      "0.0011253094267254205 1.672\n",
      "0.0007657991920839337 1.469\n",
      "-0.0003101997496247418 1.089\n",
      "2.652462507467899e-05 1.072\n",
      "-0.013700690108912235 1.325\n",
      "0.002216498941728807 1.514\n",
      "0.0015633042900562461 2.25\n",
      "-0.0003253903229194525 2.007\n",
      "-0.004138224219891842 1.65\n",
      "-0.0012191023850915994 1.399\n",
      "-0.003647062350029528 1.334\n",
      "0.0013455727394987259 1.396\n",
      "-0.0028748748742150674 1.273\n",
      "-0.0003988114271772209 1.267\n",
      "0.0024519528277968227 2.25\n",
      "0.0013354456906355854 1.938\n",
      "0.0029532417465222764 1.875\n",
      "0.003117806290548309 0.984\n",
      "0.0016493842053929401 0.917\n",
      "0.003006408753053764 2.75\n",
      "0.0021734589840604595 0.784\n",
      "0.000710100423336661 0.879\n",
      "0.0024468893033652525 1.234\n",
      "0.002373468199107484 0.927\n",
      "0.003082361619527317 1.375\n",
      "0.0016974876874928575 0.698\n",
      "0.001864583993734675 0.836\n",
      "0.0012316434397883955 0.963\n",
      "0.0012291116775726104 0.703\n",
      "0.0012341752020041806 0.613\n",
      "0.0012341752020041806 0.589\n",
      "0.0015734313389193864 0.713\n",
      "0.0018316710849294686 0.555\n",
      "0.0022924518082023605 0.55\n",
      "0.002249411850534013 0.798\n",
      "0.0014063350326775689 0.847\n",
      "-0.001527977375417384 0.888\n",
      "0.0012949374951830236 0.685\n",
      "0.0013607633127934366 0.687\n",
      "0.0014898831857984777 0.555\n",
      "0.0010544200846834373 0.63\n",
      "0.0016620430164718657 0.717\n",
      "0.0025633503652913677 0.579\n",
      "-0.0004595737203560638 0.697\n",
      "-0.0032445121577196943 0.596\n",
      "-0.004657235474127791 0.65\n",
      "-0.0014975962288279626 0.612\n",
      "-0.0007000911308556501 0.566\n",
      "0.0015025419968774034 0.623\n",
      "0.0016645747786876506 0.488\n",
      "-0.00025703274309325433 0.575\n",
      "0.0005835123125474052 0.455\n",
      "0.0006645287034525289 0.47\n",
      "0.0016822971141981465 0.483\n",
      "0.0006544016545893884 0.534\n",
      "-7.474586355672575e-05 0.58\n",
      "0.001775972316182196 0.575\n",
      "0.0006797192767472397 0.551\n",
      "0.0028291853979488055 0.708\n",
      "0.0017709087917506259 0.634\n",
      "0.0010189754136624455 0.991\n",
      "0.0032266720658270694 1.0\n",
      "0.0023835952479706246 0.775\n",
      "0.0024519528277968227 0.67\n",
      "0.002094974355371121 0.655\n",
      "0.0017582499806717002 0.872\n",
      "0.0035355470561528536 0.72\n",
      "0.002332960003654922 0.938\n",
      "0.003181100345942937 1.625\n",
      "0.0010316342247413712 0.924\n",
      "-0.013890572275096118 1.083\n",
      "0.0004265430551687277 1.12\n",
      "0.0005708535014684796 1.072\n",
      "0.0009582131204836027 1.156\n",
      "0.0008696014429311235 0.983\n",
      "0.0009734036937783134 1.168\n",
      "0.0014696290880721965 0.781\n",
      "0.0027076608115911196 0.771\n",
      "0.0010594836091150075 0.923\n",
      "0.001732932358513849 0.847\n",
      "9.741396711666232e-05 0.894\n"
     ]
    }
   ],
   "source": [
    "for i in range(len(y_pred_test)):\n",
    "    print(y_pred_test[i], Y_test[i])"
   ]
  },
  {
   "cell_type": "code",
   "execution_count": 35,
   "id": "44a66e2a",
   "metadata": {},
   "outputs": [
    {
     "data": {
      "text/plain": [
       "-4.4003449798270085"
      ]
     },
     "execution_count": 35,
     "metadata": {},
     "output_type": "execute_result"
    }
   ],
   "source": [
    "R2_score(Y_test, y_pred_test)"
   ]
  },
  {
   "cell_type": "code",
   "execution_count": 36,
   "id": "abd9f327",
   "metadata": {},
   "outputs": [],
   "source": [
    "from sklearn import metrics"
   ]
  },
  {
   "cell_type": "code",
   "execution_count": 97,
   "id": "5fa95c86",
   "metadata": {},
   "outputs": [
    {
     "name": "stdout",
     "output_type": "stream",
     "text": [
      "MAE distance 1.0704550969897166\n",
      "MSE distance 1.4068534996652287\n",
      "RMSE distance 1.1861085530697553\n"
     ]
    }
   ],
   "source": [
    "print('MAE distance', metrics.mean_absolute_error(Y_test, y_pred_test))\n",
    "print('MSE distance', metrics.mean_squared_error(Y_test, y_pred_test))\n",
    "print('RMSE distance', np.sqrt(metrics.mean_squared_error(Y_test, y_pred_test)))\n"
   ]
  },
  {
   "cell_type": "markdown",
   "id": "a3c64571",
   "metadata": {},
   "source": [
    "# VECTORIZATION "
   ]
  },
  {
   "cell_type": "code",
   "execution_count": 110,
   "id": "c4a1cace",
   "metadata": {},
   "outputs": [],
   "source": [
    "def hypothesis(X, theta):\n",
    "    return np.dot(X,theta)\n"
   ]
  },
  {
   "cell_type": "code",
   "execution_count": 111,
   "id": "86078a18",
   "metadata": {},
   "outputs": [],
   "source": [
    "def cost(X, Y, theta):\n",
    "    m = X.shape[0]\n",
    "    \n",
    "    \n",
    "    total_loss = 0\n",
    "    y_p = hypothesis(X[i], theta)\n",
    "     \n",
    "    total_loss = np.sum((y_p - Y)**2)\n",
    "    return total_loss/m"
   ]
  },
  {
   "cell_type": "code",
   "execution_count": 124,
   "id": "19511d95",
   "metadata": {},
   "outputs": [],
   "source": [
    "def gradient(X, Y, theta):\n",
    "    m = X.sha[0]\n",
    "    y_p = hypothesis(X,theta)\n",
    "    grad = np.dot(X.T,(y_p - Y))\n",
    "    return grad/m\n",
    "    "
   ]
  },
  {
   "cell_type": "code",
   "execution_count": 125,
   "id": "16889b1c",
   "metadata": {},
   "outputs": [],
   "source": [
    "def gradient_descent(X, Y, A=0.001, epochs = 1000):\n",
    "    m,n = X.shape\n",
    "    \n",
    "    theta = np.zeros((n,))\n",
    "    cost_epoch = []\n",
    "    \n",
    "    for i in range(epochs):\n",
    "        \n",
    "        loss = cost(X,Y, theta)\n",
    "        grad = gradient(X,Y, theta)\n",
    "        cost_epoch.append(loss)\n",
    "        \n",
    "        theta = theta - A*grad\n",
    "        \n",
    "        return theta , cost_epoch"
   ]
  },
  {
   "cell_type": "code",
   "execution_count": 126,
   "id": "2ae40eec",
   "metadata": {},
   "outputs": [],
   "source": [
    "theta, cost_epoch = gradient_descent(X,Y, A = 0.001, epochs = 1000)"
   ]
  },
  {
   "cell_type": "code",
   "execution_count": 127,
   "id": "d967d39d",
   "metadata": {},
   "outputs": [
    {
     "data": {
      "text/plain": [
       "[<matplotlib.lines.Line2D at 0x1f36e22c650>]"
      ]
     },
     "execution_count": 127,
     "metadata": {},
     "output_type": "execute_result"
    },
    {
     "data": {
      "image/png": "[encoded data removed]",
      "text/plain": [
       "<Figure size 640x480 with 1 Axes>"
      ]
     },
     "metadata": {},
     "output_type": "display_data"
    }
   ],
   "source": [
    "plt.plot(theta, color = 'green')"
   ]
  },
  {
   "cell_type": "code",
   "execution_count": 128,
   "id": "92420f59",
   "metadata": {},
   "outputs": [
    {
     "data": {
      "text/plain": [
       "array([ 2.07340982e-03,  8.00173806e-04,  1.24176944e-04, -2.86705535e-05])"
      ]
     },
     "execution_count": 128,
     "metadata": {},
     "output_type": "execute_result"
    }
   ],
   "source": [
    "theta"
   ]
  },
  {
   "cell_type": "code",
   "execution_count": 129,
   "id": "8b323bbf",
   "metadata": {},
   "outputs": [
    {
     "data": {
      "text/plain": [
       "[5.630931285204328]"
      ]
     },
     "execution_count": 129,
     "metadata": {},
     "output_type": "execute_result"
    }
   ],
   "source": [
    "cost_epoch"
   ]
  },
  {
   "cell_type": "code",
   "execution_count": 130,
   "id": "baebd36e",
   "metadata": {},
   "outputs": [],
   "source": [
    "y_pred_test = []\n",
    "for i in range(X_test.shape[0]):\n",
    "    pred = hypothesis(X_test[i], theta)\n",
    "    y_pred_test.append(pred)\n",
    "y_pred_test = np.array(y_pred_test)    "
   ]
  },
  {
   "cell_type": "code",
   "execution_count": 131,
   "id": "f2feed83",
   "metadata": {},
   "outputs": [
    {
     "name": "stdout",
     "output_type": "stream",
     "text": [
      "0.0016633397390118942 1.943\n",
      "0.0022002543539103928 2.265\n",
      "0.0024900191566512905 2.362\n",
      "0.001157244367508494 1.826\n",
      "0.001133057427868097 2.194\n",
      "0.0019749349866452917 2.277\n",
      "0.00209633999348909 1.231\n",
      "0.0014983635835236347 1.079\n",
      "0.0011410364205557883 0.694\n",
      "0.0018004351940519852 1.222\n",
      "0.0016124245931221318 1.031\n",
      "0.0015902154447490942 0.958\n",
      "0.0017043892740131817 1.206\n",
      "0.0015592947132197642 0.953\n",
      "0.0013728367950529958 0.978\n",
      "0.0016046657591818297 1.72\n",
      "0.0011386048518519695 1.525\n",
      "0.0015623834363530224 1.194\n",
      "0.0021856447478031784 1.544\n",
      "0.0024567456703516095 1.672\n",
      "0.0022513176501084446 1.469\n",
      "0.0015319006206727164 1.089\n",
      "0.0017989258612949824 1.072\n",
      "0.001428550796888982 1.325\n",
      "0.0017149217992282948 1.514\n",
      "0.0014111283469870521 2.25\n",
      "0.0022750559150110468 2.007\n",
      "0.0025021688504204263 1.65\n",
      "0.002357187076647553 1.399\n",
      "0.0020606789773015923 1.334\n",
      "0.0015903528818076674 1.396\n",
      "0.0016308708743947656 1.273\n",
      "0.0016018217794624362 1.267\n",
      "0.002774341749751995 2.25\n",
      "0.0010865896096307701 1.938\n",
      "0.0021444752404077847 1.875\n",
      "0.0018881770327252305 0.984\n",
      "0.0013981396280404953 0.917\n",
      "0.0017578346138577608 2.75\n",
      "0.0013612798349709684 0.784\n",
      "0.001678082092898533 0.879\n",
      "0.0017105239708725926 1.234\n",
      "0.002092460032470045 0.927\n",
      "0.0021293476386590013 1.375\n",
      "0.0017747904581083454 0.698\n",
      "0.0017197609723088262 0.836\n",
      "0.001577226823641311 0.963\n",
      "0.0010008382821336593 0.703\n",
      "0.0010845535305197154 0.613\n",
      "0.001347848286390965 0.589\n",
      "0.0012900912622583005 0.713\n",
      "0.0011438315182675724 0.555\n",
      "0.0010725683816063434 0.55\n",
      "0.0019539009372166443 0.798\n",
      "0.0019507396842494997 0.847\n",
      "0.0015123611369517844 0.888\n",
      "0.001634788069033577 0.685\n",
      "0.0013889215769841438 0.687\n",
      "0.0013557716292333303 0.555\n",
      "0.0011830330462828666 0.63\n",
      "0.0016616714967269913 0.717\n",
      "0.0011431861642903652 0.579\n",
      "0.000959037021283335 0.697\n",
      "0.0008690303528986875 0.596\n",
      "0.0012713265363523134 0.65\n",
      "0.00117518893174628 0.612\n",
      "0.0013256133202586048 0.566\n",
      "0.001227366960962418 0.623\n",
      "0.0011370390917776342 0.488\n",
      "0.0013047675241461435 0.575\n",
      "0.0010167617733659118 0.455\n",
      "0.0009751046732661157 0.47\n",
      "0.0010628974550413017 0.483\n",
      "0.001102963672468366 0.534\n",
      "0.0014564543252725455 0.58\n",
      "0.0013991559595378877 0.575\n",
      "0.0011774669880006271 0.551\n",
      "0.0017769784547272565 0.708\n",
      "0.0013725919642031568 0.634\n",
      "0.001537771444129023 0.991\n",
      "0.002509163255324893 1.0\n",
      "0.0015460217691109024 0.775\n",
      "0.0014002811096345009 0.67\n",
      "0.0016864553123949722 0.655\n",
      "0.001630685222493397 0.872\n",
      "0.00229837911936716 0.72\n",
      "0.0014516625050807063 0.938\n",
      "0.0015052520269016052 1.625\n",
      "0.0014513941613595188 0.924\n",
      "0.0011799978578925382 1.083\n",
      "0.0017758508834223245 1.12\n",
      "0.0017959544580143946 1.072\n",
      "0.0016343409973728128 1.156\n",
      "0.0015094601663110528 0.983\n",
      "0.002010213477507755 1.168\n",
      "0.0010790817808165468 0.781\n",
      "0.0014421137226908857 0.771\n",
      "0.0010548862135225025 0.923\n",
      "0.0011419111711935485 0.847\n",
      "0.0013254327288714967 0.894\n"
     ]
    }
   ],
   "source": [
    "for i in range(len(y_pred_test)):\n",
    "    print(y_pred_test[i], Y_test[i])"
   ]
  },
  {
   "cell_type": "code",
   "execution_count": 132,
   "id": "d3a5006c",
   "metadata": {},
   "outputs": [
    {
     "name": "stdout",
     "output_type": "stream",
     "text": [
      "MAE distance 1.0704550969897166\n",
      "MSE distance 1.4068534996652287\n",
      "RMSE distance 1.1861085530697553\n"
     ]
    }
   ],
   "source": [
    "print('MAE distance', metrics.mean_absolute_error(Y_test, y_pred_test))\n",
    "print('MSE distance', metrics.mean_squared_error(Y_test, y_pred_test))\n",
    "print('RMSE distance', np.sqrt(metrics.mean_squared_error(Y_test, y_pred_test)))\n"
   ]
  },
  {
   "cell_type": "code",
   "execution_count": 399,
   "id": "ae65557a",
   "metadata": {},
   "outputs": [
    {
     "ename": "ImportError",
     "evalue": "\n`load_boston` has been removed from scikit-learn since version 1.2.\n\nThe Boston housing prices dataset has an ethical problem: as\ninvestigated in [1], the authors of this dataset engineered a\nnon-invertible variable \"B\" assuming that racial self-segregation had a\npositive impact on house prices [2]. Furthermore the goal of the\nresearch that led to the creation of this dataset was to study the\nimpact of air quality but it did not give adequate demonstration of the\nvalidity of this assumption.\n\nThe scikit-learn maintainers therefore strongly discourage the use of\nthis dataset unless the purpose of the code is to study and educate\nabout ethical issues in data science and machine learning.\n\nIn this special case, you can fetch the dataset from the original\nsource::\n\n    import pandas as pd\n    import numpy as np\n\n    data_url = \"http://lib.stat.cmu.edu/datasets/boston\"\n    raw_df = pd.read_csv(data_url, sep=\"\\s+\", skiprows=22, header=None)\n    data = np.hstack([raw_df.values[::2, :], raw_df.values[1::2, :2]])\n    target = raw_df.values[1::2, 2]\n\nAlternative datasets include the California housing dataset and the\nAmes housing dataset. You can load the datasets as follows::\n\n    from sklearn.datasets import fetch_california_housing\n    housing = fetch_california_housing()\n\nfor the California housing dataset and::\n\n    from sklearn.datasets import fetch_openml\n    housing = fetch_openml(name=\"house_prices\", as_frame=True)\n\nfor the Ames housing dataset.\n\n[1] M Carlisle.\n\"Racist data destruction?\"\n<https://medium.com/@docintangible/racist-data-destruction-113e3eff54a8>\n\n[2] Harrison Jr, David, and Daniel L. Rubinfeld.\n\"Hedonic housing prices and the demand for clean air.\"\nJournal of environmental economics and management 5.1 (1978): 81-102.\n<https://www.researchgate.net/publication/4974606_Hedonic_housing_prices_and_the_demand_for_clean_air>\n",
     "output_type": "error",
     "traceback": [
      "\u001b[1;31m---------------------------------------------------------------------------\u001b[0m",
      "\u001b[1;31mImportError\u001b[0m                               Traceback (most recent call last)",
      "Cell \u001b[1;32mIn[399], line 1\u001b[0m\n\u001b[1;32m----> 1\u001b[0m \u001b[38;5;28;01mfrom\u001b[39;00m \u001b[38;5;21;01msklearn\u001b[39;00m\u001b[38;5;21;01m.\u001b[39;00m\u001b[38;5;21;01mdatasets\u001b[39;00m \u001b[38;5;28;01mimport\u001b[39;00m load_boston\n",
      "File \u001b[1;32m~\\Desktop\\data science\\env\\Lib\\site-packages\\sklearn\\datasets\\__init__.py:156\u001b[0m, in \u001b[0;36m__getattr__\u001b[1;34m(name)\u001b[0m\n\u001b[0;32m    105\u001b[0m \u001b[38;5;28;01mif\u001b[39;00m name \u001b[38;5;241m==\u001b[39m \u001b[38;5;124m\"\u001b[39m\u001b[38;5;124mload_boston\u001b[39m\u001b[38;5;124m\"\u001b[39m:\n\u001b[0;32m    106\u001b[0m     msg \u001b[38;5;241m=\u001b[39m textwrap\u001b[38;5;241m.\u001b[39mdedent(\n\u001b[0;32m    107\u001b[0m \u001b[38;5;250m        \u001b[39m\u001b[38;5;124;03m\"\"\"\u001b[39;00m\n\u001b[0;32m    108\u001b[0m \u001b[38;5;124;03m        `load_boston` has been removed from scikit-learn since version 1.2.\u001b[39;00m\n\u001b[1;32m   (...)\u001b[0m\n\u001b[0;32m    154\u001b[0m \u001b[38;5;124;03m        \"\"\"\u001b[39;00m\n\u001b[0;32m    155\u001b[0m     )\n\u001b[1;32m--> 156\u001b[0m     \u001b[38;5;28;01mraise\u001b[39;00m \u001b[38;5;167;01mImportError\u001b[39;00m(msg)\n\u001b[0;32m    157\u001b[0m \u001b[38;5;28;01mtry\u001b[39;00m:\n\u001b[0;32m    158\u001b[0m     \u001b[38;5;28;01mreturn\u001b[39;00m \u001b[38;5;28mglobals\u001b[39m()[name]\n",
      "\u001b[1;31mImportError\u001b[0m: \n`load_boston` has been removed from scikit-learn since version 1.2.\n\nThe Boston housing prices dataset has an ethical problem: as\ninvestigated in [1], the authors of this dataset engineered a\nnon-invertible variable \"B\" assuming that racial self-segregation had a\npositive impact on house prices [2]. Furthermore the goal of the\nresearch that led to the creation of this dataset was to study the\nimpact of air quality but it did not give adequate demonstration of the\nvalidity of this assumption.\n\nThe scikit-learn maintainers therefore strongly discourage the use of\nthis dataset unless the purpose of the code is to study and educate\nabout ethical issues in data science and machine learning.\n\nIn this special case, you can fetch the dataset from the original\nsource::\n\n    import pandas as pd\n    import numpy as np\n\n    data_url = \"http://lib.stat.cmu.edu/datasets/boston\"\n    raw_df = pd.read_csv(data_url, sep=\"\\s+\", skiprows=22, header=None)\n    data = np.hstack([raw_df.values[::2, :], raw_df.values[1::2, :2]])\n    target = raw_df.values[1::2, 2]\n\nAlternative datasets include the California housing dataset and the\nAmes housing dataset. You can load the datasets as follows::\n\n    from sklearn.datasets import fetch_california_housing\n    housing = fetch_california_housing()\n\nfor the California housing dataset and::\n\n    from sklearn.datasets import fetch_openml\n    housing = fetch_openml(name=\"house_prices\", as_frame=True)\n\nfor the Ames housing dataset.\n\n[1] M Carlisle.\n\"Racist data destruction?\"\n<https://medium.com/@docintangible/racist-data-destruction-113e3eff54a8>\n\n[2] Harrison Jr, David, and Daniel L. Rubinfeld.\n\"Hedonic housing prices and the demand for clean air.\"\nJournal of environmental economics and management 5.1 (1978): 81-102.\n<https://www.researchgate.net/publication/4974606_Hedonic_housing_prices_and_the_demand_for_clean_air>\n"
     ]
    }
   ],
   "source": [
    "from sklearn.datasets import load_boston"
   ]
  },
  {
   "cell_type": "code",
   "execution_count": 400,
   "id": "2c02c925",
   "metadata": {},
   "outputs": [],
   "source": [
    "import pandas as pd\n",
    "import numpy as np\n",
    "\n",
    "data_url = \"http://lib.stat.cmu.edu/datasets/boston\"\n",
    "raw_df = pd.read_csv(data_url, sep=\"\\s+\", skiprows=22, header=None)\n",
    "data = np.hstack([raw_df.values[::2, :], raw_df.values[1::2, :2]])\n",
    "target = raw_df.values[1::2, 2]"
   ]
  },
  {
   "cell_type": "code",
   "execution_count": 401,
   "id": "244331c5",
   "metadata": {},
   "outputs": [
    {
     "data": {
      "text/plain": [
       "array([[6.3200e-03, 1.8000e+01, 2.3100e+00, ..., 1.5300e+01, 3.9690e+02,\n",
       "        4.9800e+00],\n",
       "       [2.7310e-02, 0.0000e+00, 7.0700e+00, ..., 1.7800e+01, 3.9690e+02,\n",
       "        9.1400e+00],\n",
       "       [2.7290e-02, 0.0000e+00, 7.0700e+00, ..., 1.7800e+01, 3.9283e+02,\n",
       "        4.0300e+00],\n",
       "       ...,\n",
       "       [6.0760e-02, 0.0000e+00, 1.1930e+01, ..., 2.1000e+01, 3.9690e+02,\n",
       "        5.6400e+00],\n",
       "       [1.0959e-01, 0.0000e+00, 1.1930e+01, ..., 2.1000e+01, 3.9345e+02,\n",
       "        6.4800e+00],\n",
       "       [4.7410e-02, 0.0000e+00, 1.1930e+01, ..., 2.1000e+01, 3.9690e+02,\n",
       "        7.8800e+00]])"
      ]
     },
     "execution_count": 401,
     "metadata": {},
     "output_type": "execute_result"
    }
   ],
   "source": [
    "data"
   ]
  },
  {
   "cell_type": "code",
   "execution_count": 402,
   "id": "fb8beffd",
   "metadata": {},
   "outputs": [
    {
     "data": {
      "text/html": [
       "<div>\n",
       "<style scoped>\n",
       "    .dataframe tbody tr th:only-of-type {\n",
       "        vertical-align: middle;\n",
       "    }\n",
       "\n",
       "    .dataframe tbody tr th {\n",
       "        vertical-align: top;\n",
       "    }\n",
       "\n",
       "    .dataframe thead th {\n",
       "        text-align: right;\n",
       "    }\n",
       "</style>\n",
       "<table border=\"1\" class=\"dataframe\">\n",
       "  <thead>\n",
       "    <tr style=\"text-align: right;\">\n",
       "      <th></th>\n",
       "      <th>0</th>\n",
       "      <th>1</th>\n",
       "      <th>2</th>\n",
       "      <th>3</th>\n",
       "      <th>4</th>\n",
       "      <th>5</th>\n",
       "      <th>6</th>\n",
       "      <th>7</th>\n",
       "      <th>8</th>\n",
       "      <th>9</th>\n",
       "      <th>10</th>\n",
       "    </tr>\n",
       "  </thead>\n",
       "  <tbody>\n",
       "    <tr>\n",
       "      <th>0</th>\n",
       "      <td>0.00632</td>\n",
       "      <td>18.00</td>\n",
       "      <td>2.31</td>\n",
       "      <td>0.0</td>\n",
       "      <td>0.538</td>\n",
       "      <td>6.575</td>\n",
       "      <td>65.2</td>\n",
       "      <td>4.0900</td>\n",
       "      <td>1.0</td>\n",
       "      <td>296.0</td>\n",
       "      <td>15.3</td>\n",
       "    </tr>\n",
       "    <tr>\n",
       "      <th>1</th>\n",
       "      <td>396.90000</td>\n",
       "      <td>4.98</td>\n",
       "      <td>24.00</td>\n",
       "      <td>NaN</td>\n",
       "      <td>NaN</td>\n",
       "      <td>NaN</td>\n",
       "      <td>NaN</td>\n",
       "      <td>NaN</td>\n",
       "      <td>NaN</td>\n",
       "      <td>NaN</td>\n",
       "      <td>NaN</td>\n",
       "    </tr>\n",
       "    <tr>\n",
       "      <th>2</th>\n",
       "      <td>0.02731</td>\n",
       "      <td>0.00</td>\n",
       "      <td>7.07</td>\n",
       "      <td>0.0</td>\n",
       "      <td>0.469</td>\n",
       "      <td>6.421</td>\n",
       "      <td>78.9</td>\n",
       "      <td>4.9671</td>\n",
       "      <td>2.0</td>\n",
       "      <td>242.0</td>\n",
       "      <td>17.8</td>\n",
       "    </tr>\n",
       "    <tr>\n",
       "      <th>3</th>\n",
       "      <td>396.90000</td>\n",
       "      <td>9.14</td>\n",
       "      <td>21.60</td>\n",
       "      <td>NaN</td>\n",
       "      <td>NaN</td>\n",
       "      <td>NaN</td>\n",
       "      <td>NaN</td>\n",
       "      <td>NaN</td>\n",
       "      <td>NaN</td>\n",
       "      <td>NaN</td>\n",
       "      <td>NaN</td>\n",
       "    </tr>\n",
       "    <tr>\n",
       "      <th>4</th>\n",
       "      <td>0.02729</td>\n",
       "      <td>0.00</td>\n",
       "      <td>7.07</td>\n",
       "      <td>0.0</td>\n",
       "      <td>0.469</td>\n",
       "      <td>7.185</td>\n",
       "      <td>61.1</td>\n",
       "      <td>4.9671</td>\n",
       "      <td>2.0</td>\n",
       "      <td>242.0</td>\n",
       "      <td>17.8</td>\n",
       "    </tr>\n",
       "    <tr>\n",
       "      <th>...</th>\n",
       "      <td>...</td>\n",
       "      <td>...</td>\n",
       "      <td>...</td>\n",
       "      <td>...</td>\n",
       "      <td>...</td>\n",
       "      <td>...</td>\n",
       "      <td>...</td>\n",
       "      <td>...</td>\n",
       "      <td>...</td>\n",
       "      <td>...</td>\n",
       "      <td>...</td>\n",
       "    </tr>\n",
       "    <tr>\n",
       "      <th>1007</th>\n",
       "      <td>396.90000</td>\n",
       "      <td>5.64</td>\n",
       "      <td>23.90</td>\n",
       "      <td>NaN</td>\n",
       "      <td>NaN</td>\n",
       "      <td>NaN</td>\n",
       "      <td>NaN</td>\n",
       "      <td>NaN</td>\n",
       "      <td>NaN</td>\n",
       "      <td>NaN</td>\n",
       "      <td>NaN</td>\n",
       "    </tr>\n",
       "    <tr>\n",
       "      <th>1008</th>\n",
       "      <td>0.10959</td>\n",
       "      <td>0.00</td>\n",
       "      <td>11.93</td>\n",
       "      <td>0.0</td>\n",
       "      <td>0.573</td>\n",
       "      <td>6.794</td>\n",
       "      <td>89.3</td>\n",
       "      <td>2.3889</td>\n",
       "      <td>1.0</td>\n",
       "      <td>273.0</td>\n",
       "      <td>21.0</td>\n",
       "    </tr>\n",
       "    <tr>\n",
       "      <th>1009</th>\n",
       "      <td>393.45000</td>\n",
       "      <td>6.48</td>\n",
       "      <td>22.00</td>\n",
       "      <td>NaN</td>\n",
       "      <td>NaN</td>\n",
       "      <td>NaN</td>\n",
       "      <td>NaN</td>\n",
       "      <td>NaN</td>\n",
       "      <td>NaN</td>\n",
       "      <td>NaN</td>\n",
       "      <td>NaN</td>\n",
       "    </tr>\n",
       "    <tr>\n",
       "      <th>1010</th>\n",
       "      <td>0.04741</td>\n",
       "      <td>0.00</td>\n",
       "      <td>11.93</td>\n",
       "      <td>0.0</td>\n",
       "      <td>0.573</td>\n",
       "      <td>6.030</td>\n",
       "      <td>80.8</td>\n",
       "      <td>2.5050</td>\n",
       "      <td>1.0</td>\n",
       "      <td>273.0</td>\n",
       "      <td>21.0</td>\n",
       "    </tr>\n",
       "    <tr>\n",
       "      <th>1011</th>\n",
       "      <td>396.90000</td>\n",
       "      <td>7.88</td>\n",
       "      <td>11.90</td>\n",
       "      <td>NaN</td>\n",
       "      <td>NaN</td>\n",
       "      <td>NaN</td>\n",
       "      <td>NaN</td>\n",
       "      <td>NaN</td>\n",
       "      <td>NaN</td>\n",
       "      <td>NaN</td>\n",
       "      <td>NaN</td>\n",
       "    </tr>\n",
       "  </tbody>\n",
       "</table>\n",
       "<p>1012 rows × 11 columns</p>\n",
       "</div>"
      ],
      "text/plain": [
       "             0      1      2    3      4      5     6       7    8      9    \n",
       "0       0.00632  18.00   2.31  0.0  0.538  6.575  65.2  4.0900  1.0  296.0  \\\n",
       "1     396.90000   4.98  24.00  NaN    NaN    NaN   NaN     NaN  NaN    NaN   \n",
       "2       0.02731   0.00   7.07  0.0  0.469  6.421  78.9  4.9671  2.0  242.0   \n",
       "3     396.90000   9.14  21.60  NaN    NaN    NaN   NaN     NaN  NaN    NaN   \n",
       "4       0.02729   0.00   7.07  0.0  0.469  7.185  61.1  4.9671  2.0  242.0   \n",
       "...         ...    ...    ...  ...    ...    ...   ...     ...  ...    ...   \n",
       "1007  396.90000   5.64  23.90  NaN    NaN    NaN   NaN     NaN  NaN    NaN   \n",
       "1008    0.10959   0.00  11.93  0.0  0.573  6.794  89.3  2.3889  1.0  273.0   \n",
       "1009  393.45000   6.48  22.00  NaN    NaN    NaN   NaN     NaN  NaN    NaN   \n",
       "1010    0.04741   0.00  11.93  0.0  0.573  6.030  80.8  2.5050  1.0  273.0   \n",
       "1011  396.90000   7.88  11.90  NaN    NaN    NaN   NaN     NaN  NaN    NaN   \n",
       "\n",
       "        10  \n",
       "0     15.3  \n",
       "1      NaN  \n",
       "2     17.8  \n",
       "3      NaN  \n",
       "4     17.8  \n",
       "...    ...  \n",
       "1007   NaN  \n",
       "1008  21.0  \n",
       "1009   NaN  \n",
       "1010  21.0  \n",
       "1011   NaN  \n",
       "\n",
       "[1012 rows x 11 columns]"
      ]
     },
     "execution_count": 402,
     "metadata": {},
     "output_type": "execute_result"
    }
   ],
   "source": [
    "raw_df"
   ]
  },
  {
   "cell_type": "code",
   "execution_count": 403,
   "id": "1c1857a8",
   "metadata": {},
   "outputs": [
    {
     "data": {
      "text/plain": [
       "506"
      ]
     },
     "execution_count": 403,
     "metadata": {},
     "output_type": "execute_result"
    }
   ],
   "source": [
    "len(data)"
   ]
  },
  {
   "cell_type": "code",
   "execution_count": 404,
   "id": "b6c5eba9",
   "metadata": {},
   "outputs": [],
   "source": [
    "v= pd.DataFrame(data)"
   ]
  },
  {
   "cell_type": "code",
   "execution_count": 405,
   "id": "642ada3f",
   "metadata": {},
   "outputs": [
    {
     "data": {
      "text/html": [
       "<div>\n",
       "<style scoped>\n",
       "    .dataframe tbody tr th:only-of-type {\n",
       "        vertical-align: middle;\n",
       "    }\n",
       "\n",
       "    .dataframe tbody tr th {\n",
       "        vertical-align: top;\n",
       "    }\n",
       "\n",
       "    .dataframe thead th {\n",
       "        text-align: right;\n",
       "    }\n",
       "</style>\n",
       "<table border=\"1\" class=\"dataframe\">\n",
       "  <thead>\n",
       "    <tr style=\"text-align: right;\">\n",
       "      <th></th>\n",
       "      <th>0</th>\n",
       "      <th>1</th>\n",
       "      <th>2</th>\n",
       "      <th>3</th>\n",
       "      <th>4</th>\n",
       "      <th>5</th>\n",
       "      <th>6</th>\n",
       "      <th>7</th>\n",
       "      <th>8</th>\n",
       "      <th>9</th>\n",
       "      <th>10</th>\n",
       "      <th>11</th>\n",
       "      <th>12</th>\n",
       "    </tr>\n",
       "  </thead>\n",
       "  <tbody>\n",
       "    <tr>\n",
       "      <th>0</th>\n",
       "      <td>0.00632</td>\n",
       "      <td>18.0</td>\n",
       "      <td>2.31</td>\n",
       "      <td>0.0</td>\n",
       "      <td>0.538</td>\n",
       "      <td>6.575</td>\n",
       "      <td>65.2</td>\n",
       "      <td>4.0900</td>\n",
       "      <td>1.0</td>\n",
       "      <td>296.0</td>\n",
       "      <td>15.3</td>\n",
       "      <td>396.90</td>\n",
       "      <td>4.98</td>\n",
       "    </tr>\n",
       "    <tr>\n",
       "      <th>1</th>\n",
       "      <td>0.02731</td>\n",
       "      <td>0.0</td>\n",
       "      <td>7.07</td>\n",
       "      <td>0.0</td>\n",
       "      <td>0.469</td>\n",
       "      <td>6.421</td>\n",
       "      <td>78.9</td>\n",
       "      <td>4.9671</td>\n",
       "      <td>2.0</td>\n",
       "      <td>242.0</td>\n",
       "      <td>17.8</td>\n",
       "      <td>396.90</td>\n",
       "      <td>9.14</td>\n",
       "    </tr>\n",
       "    <tr>\n",
       "      <th>2</th>\n",
       "      <td>0.02729</td>\n",
       "      <td>0.0</td>\n",
       "      <td>7.07</td>\n",
       "      <td>0.0</td>\n",
       "      <td>0.469</td>\n",
       "      <td>7.185</td>\n",
       "      <td>61.1</td>\n",
       "      <td>4.9671</td>\n",
       "      <td>2.0</td>\n",
       "      <td>242.0</td>\n",
       "      <td>17.8</td>\n",
       "      <td>392.83</td>\n",
       "      <td>4.03</td>\n",
       "    </tr>\n",
       "    <tr>\n",
       "      <th>3</th>\n",
       "      <td>0.03237</td>\n",
       "      <td>0.0</td>\n",
       "      <td>2.18</td>\n",
       "      <td>0.0</td>\n",
       "      <td>0.458</td>\n",
       "      <td>6.998</td>\n",
       "      <td>45.8</td>\n",
       "      <td>6.0622</td>\n",
       "      <td>3.0</td>\n",
       "      <td>222.0</td>\n",
       "      <td>18.7</td>\n",
       "      <td>394.63</td>\n",
       "      <td>2.94</td>\n",
       "    </tr>\n",
       "    <tr>\n",
       "      <th>4</th>\n",
       "      <td>0.06905</td>\n",
       "      <td>0.0</td>\n",
       "      <td>2.18</td>\n",
       "      <td>0.0</td>\n",
       "      <td>0.458</td>\n",
       "      <td>7.147</td>\n",
       "      <td>54.2</td>\n",
       "      <td>6.0622</td>\n",
       "      <td>3.0</td>\n",
       "      <td>222.0</td>\n",
       "      <td>18.7</td>\n",
       "      <td>396.90</td>\n",
       "      <td>5.33</td>\n",
       "    </tr>\n",
       "    <tr>\n",
       "      <th>...</th>\n",
       "      <td>...</td>\n",
       "      <td>...</td>\n",
       "      <td>...</td>\n",
       "      <td>...</td>\n",
       "      <td>...</td>\n",
       "      <td>...</td>\n",
       "      <td>...</td>\n",
       "      <td>...</td>\n",
       "      <td>...</td>\n",
       "      <td>...</td>\n",
       "      <td>...</td>\n",
       "      <td>...</td>\n",
       "      <td>...</td>\n",
       "    </tr>\n",
       "    <tr>\n",
       "      <th>501</th>\n",
       "      <td>0.06263</td>\n",
       "      <td>0.0</td>\n",
       "      <td>11.93</td>\n",
       "      <td>0.0</td>\n",
       "      <td>0.573</td>\n",
       "      <td>6.593</td>\n",
       "      <td>69.1</td>\n",
       "      <td>2.4786</td>\n",
       "      <td>1.0</td>\n",
       "      <td>273.0</td>\n",
       "      <td>21.0</td>\n",
       "      <td>391.99</td>\n",
       "      <td>9.67</td>\n",
       "    </tr>\n",
       "    <tr>\n",
       "      <th>502</th>\n",
       "      <td>0.04527</td>\n",
       "      <td>0.0</td>\n",
       "      <td>11.93</td>\n",
       "      <td>0.0</td>\n",
       "      <td>0.573</td>\n",
       "      <td>6.120</td>\n",
       "      <td>76.7</td>\n",
       "      <td>2.2875</td>\n",
       "      <td>1.0</td>\n",
       "      <td>273.0</td>\n",
       "      <td>21.0</td>\n",
       "      <td>396.90</td>\n",
       "      <td>9.08</td>\n",
       "    </tr>\n",
       "    <tr>\n",
       "      <th>503</th>\n",
       "      <td>0.06076</td>\n",
       "      <td>0.0</td>\n",
       "      <td>11.93</td>\n",
       "      <td>0.0</td>\n",
       "      <td>0.573</td>\n",
       "      <td>6.976</td>\n",
       "      <td>91.0</td>\n",
       "      <td>2.1675</td>\n",
       "      <td>1.0</td>\n",
       "      <td>273.0</td>\n",
       "      <td>21.0</td>\n",
       "      <td>396.90</td>\n",
       "      <td>5.64</td>\n",
       "    </tr>\n",
       "    <tr>\n",
       "      <th>504</th>\n",
       "      <td>0.10959</td>\n",
       "      <td>0.0</td>\n",
       "      <td>11.93</td>\n",
       "      <td>0.0</td>\n",
       "      <td>0.573</td>\n",
       "      <td>6.794</td>\n",
       "      <td>89.3</td>\n",
       "      <td>2.3889</td>\n",
       "      <td>1.0</td>\n",
       "      <td>273.0</td>\n",
       "      <td>21.0</td>\n",
       "      <td>393.45</td>\n",
       "      <td>6.48</td>\n",
       "    </tr>\n",
       "    <tr>\n",
       "      <th>505</th>\n",
       "      <td>0.04741</td>\n",
       "      <td>0.0</td>\n",
       "      <td>11.93</td>\n",
       "      <td>0.0</td>\n",
       "      <td>0.573</td>\n",
       "      <td>6.030</td>\n",
       "      <td>80.8</td>\n",
       "      <td>2.5050</td>\n",
       "      <td>1.0</td>\n",
       "      <td>273.0</td>\n",
       "      <td>21.0</td>\n",
       "      <td>396.90</td>\n",
       "      <td>7.88</td>\n",
       "    </tr>\n",
       "  </tbody>\n",
       "</table>\n",
       "<p>506 rows × 13 columns</p>\n",
       "</div>"
      ],
      "text/plain": [
       "          0     1      2    3      4      5     6       7    8      9     10   \n",
       "0    0.00632  18.0   2.31  0.0  0.538  6.575  65.2  4.0900  1.0  296.0  15.3  \\\n",
       "1    0.02731   0.0   7.07  0.0  0.469  6.421  78.9  4.9671  2.0  242.0  17.8   \n",
       "2    0.02729   0.0   7.07  0.0  0.469  7.185  61.1  4.9671  2.0  242.0  17.8   \n",
       "3    0.03237   0.0   2.18  0.0  0.458  6.998  45.8  6.0622  3.0  222.0  18.7   \n",
       "4    0.06905   0.0   2.18  0.0  0.458  7.147  54.2  6.0622  3.0  222.0  18.7   \n",
       "..       ...   ...    ...  ...    ...    ...   ...     ...  ...    ...   ...   \n",
       "501  0.06263   0.0  11.93  0.0  0.573  6.593  69.1  2.4786  1.0  273.0  21.0   \n",
       "502  0.04527   0.0  11.93  0.0  0.573  6.120  76.7  2.2875  1.0  273.0  21.0   \n",
       "503  0.06076   0.0  11.93  0.0  0.573  6.976  91.0  2.1675  1.0  273.0  21.0   \n",
       "504  0.10959   0.0  11.93  0.0  0.573  6.794  89.3  2.3889  1.0  273.0  21.0   \n",
       "505  0.04741   0.0  11.93  0.0  0.573  6.030  80.8  2.5050  1.0  273.0  21.0   \n",
       "\n",
       "         11    12  \n",
       "0    396.90  4.98  \n",
       "1    396.90  9.14  \n",
       "2    392.83  4.03  \n",
       "3    394.63  2.94  \n",
       "4    396.90  5.33  \n",
       "..      ...   ...  \n",
       "501  391.99  9.67  \n",
       "502  396.90  9.08  \n",
       "503  396.90  5.64  \n",
       "504  393.45  6.48  \n",
       "505  396.90  7.88  \n",
       "\n",
       "[506 rows x 13 columns]"
      ]
     },
     "execution_count": 405,
     "metadata": {},
     "output_type": "execute_result"
    }
   ],
   "source": [
    "v"
   ]
  },
  {
   "cell_type": "code",
   "execution_count": 406,
   "id": "c135c30c",
   "metadata": {},
   "outputs": [
    {
     "data": {
      "text/plain": [
       "506"
      ]
     },
     "execution_count": 406,
     "metadata": {},
     "output_type": "execute_result"
    }
   ],
   "source": [
    "len(v)"
   ]
  },
  {
   "cell_type": "code",
   "execution_count": 407,
   "id": "ef5843ae",
   "metadata": {},
   "outputs": [
    {
     "data": {
      "text/plain": [
       "506"
      ]
     },
     "execution_count": 407,
     "metadata": {},
     "output_type": "execute_result"
    }
   ],
   "source": [
    "len(target)"
   ]
  },
  {
   "cell_type": "code",
   "execution_count": 408,
   "id": "ed0485c8",
   "metadata": {},
   "outputs": [],
   "source": [
    "dataset = pd.DataFrame(np.c_[v[3], v[0], v[4], v[2]], columns = ['CHAS','CRIM','NOX','INDUS'])"
   ]
  },
  {
   "cell_type": "code",
   "execution_count": 409,
   "id": "a8795218",
   "metadata": {},
   "outputs": [
    {
     "data": {
      "text/html": [
       "<div>\n",
       "<style scoped>\n",
       "    .dataframe tbody tr th:only-of-type {\n",
       "        vertical-align: middle;\n",
       "    }\n",
       "\n",
       "    .dataframe tbody tr th {\n",
       "        vertical-align: top;\n",
       "    }\n",
       "\n",
       "    .dataframe thead th {\n",
       "        text-align: right;\n",
       "    }\n",
       "</style>\n",
       "<table border=\"1\" class=\"dataframe\">\n",
       "  <thead>\n",
       "    <tr style=\"text-align: right;\">\n",
       "      <th></th>\n",
       "      <th>CHAS</th>\n",
       "      <th>CRIM</th>\n",
       "      <th>NOX</th>\n",
       "      <th>INDUS</th>\n",
       "    </tr>\n",
       "  </thead>\n",
       "  <tbody>\n",
       "    <tr>\n",
       "      <th>0</th>\n",
       "      <td>0.0</td>\n",
       "      <td>0.00632</td>\n",
       "      <td>0.538</td>\n",
       "      <td>2.31</td>\n",
       "    </tr>\n",
       "    <tr>\n",
       "      <th>1</th>\n",
       "      <td>0.0</td>\n",
       "      <td>0.02731</td>\n",
       "      <td>0.469</td>\n",
       "      <td>7.07</td>\n",
       "    </tr>\n",
       "    <tr>\n",
       "      <th>2</th>\n",
       "      <td>0.0</td>\n",
       "      <td>0.02729</td>\n",
       "      <td>0.469</td>\n",
       "      <td>7.07</td>\n",
       "    </tr>\n",
       "    <tr>\n",
       "      <th>3</th>\n",
       "      <td>0.0</td>\n",
       "      <td>0.03237</td>\n",
       "      <td>0.458</td>\n",
       "      <td>2.18</td>\n",
       "    </tr>\n",
       "    <tr>\n",
       "      <th>4</th>\n",
       "      <td>0.0</td>\n",
       "      <td>0.06905</td>\n",
       "      <td>0.458</td>\n",
       "      <td>2.18</td>\n",
       "    </tr>\n",
       "    <tr>\n",
       "      <th>...</th>\n",
       "      <td>...</td>\n",
       "      <td>...</td>\n",
       "      <td>...</td>\n",
       "      <td>...</td>\n",
       "    </tr>\n",
       "    <tr>\n",
       "      <th>501</th>\n",
       "      <td>0.0</td>\n",
       "      <td>0.06263</td>\n",
       "      <td>0.573</td>\n",
       "      <td>11.93</td>\n",
       "    </tr>\n",
       "    <tr>\n",
       "      <th>502</th>\n",
       "      <td>0.0</td>\n",
       "      <td>0.04527</td>\n",
       "      <td>0.573</td>\n",
       "      <td>11.93</td>\n",
       "    </tr>\n",
       "    <tr>\n",
       "      <th>503</th>\n",
       "      <td>0.0</td>\n",
       "      <td>0.06076</td>\n",
       "      <td>0.573</td>\n",
       "      <td>11.93</td>\n",
       "    </tr>\n",
       "    <tr>\n",
       "      <th>504</th>\n",
       "      <td>0.0</td>\n",
       "      <td>0.10959</td>\n",
       "      <td>0.573</td>\n",
       "      <td>11.93</td>\n",
       "    </tr>\n",
       "    <tr>\n",
       "      <th>505</th>\n",
       "      <td>0.0</td>\n",
       "      <td>0.04741</td>\n",
       "      <td>0.573</td>\n",
       "      <td>11.93</td>\n",
       "    </tr>\n",
       "  </tbody>\n",
       "</table>\n",
       "<p>506 rows × 4 columns</p>\n",
       "</div>"
      ],
      "text/plain": [
       "     CHAS     CRIM    NOX  INDUS\n",
       "0     0.0  0.00632  0.538   2.31\n",
       "1     0.0  0.02731  0.469   7.07\n",
       "2     0.0  0.02729  0.469   7.07\n",
       "3     0.0  0.03237  0.458   2.18\n",
       "4     0.0  0.06905  0.458   2.18\n",
       "..    ...      ...    ...    ...\n",
       "501   0.0  0.06263  0.573  11.93\n",
       "502   0.0  0.04527  0.573  11.93\n",
       "503   0.0  0.06076  0.573  11.93\n",
       "504   0.0  0.10959  0.573  11.93\n",
       "505   0.0  0.04741  0.573  11.93\n",
       "\n",
       "[506 rows x 4 columns]"
      ]
     },
     "execution_count": 409,
     "metadata": {},
     "output_type": "execute_result"
    }
   ],
   "source": [
    "dataset"
   ]
  },
  {
   "cell_type": "code",
   "execution_count": 410,
   "id": "6ca0a533",
   "metadata": {},
   "outputs": [
    {
     "name": "stdout",
     "output_type": "stream",
     "text": [
      "(506, 4) (506,)\n"
     ]
    }
   ],
   "source": [
    "print(dataset.shape, target.shape)\n"
   ]
  },
  {
   "cell_type": "code",
   "execution_count": 411,
   "id": "9d161194",
   "metadata": {},
   "outputs": [],
   "source": [
    "X_train = dataset[:-100]\n",
    "Y_train = target[:-100]\n",
    "X_test = dataset[-100:]\n",
    "Y_test = target[-100:]"
   ]
  },
  {
   "cell_type": "code",
   "execution_count": 412,
   "id": "c4471e40",
   "metadata": {},
   "outputs": [
    {
     "name": "stdout",
     "output_type": "stream",
     "text": [
      "(406, 4) (406,) (100, 4) (100,)\n"
     ]
    }
   ],
   "source": [
    "print(X_train.shape,Y_train.shape,X_test.shape,Y_test.shape)"
   ]
  },
  {
   "cell_type": "markdown",
   "id": "db7e8c35",
   "metadata": {},
   "source": [
    "# normalization"
   ]
  },
  {
   "cell_type": "code",
   "execution_count": 413,
   "id": "1da1624a",
   "metadata": {},
   "outputs": [
    {
     "name": "stdout",
     "output_type": "stream",
     "text": [
      "(4,) (4,)\n"
     ]
    }
   ],
   "source": [
    "u = np.mean(dataset, axis = 0)\n",
    "std = np.std(dataset, axis = 0)\n",
    "print(u.shape , std.shape)"
   ]
  },
  {
   "cell_type": "code",
   "execution_count": 414,
   "id": "dbfa9599",
   "metadata": {},
   "outputs": [
    {
     "name": "stdout",
     "output_type": "stream",
     "text": [
      "(406, 4) (100, 4) (406,) (100,)\n"
     ]
    }
   ],
   "source": [
    "X_train = (X_train - u)/std\n",
    "X_test = (X_test - u)/std\n",
    "X_train = np.array(X_train)\n",
    "X_test = np.array(X_test)\n",
    "\n",
    "print(X_train.shape, X_test.shape, Y_train.shape, Y_test.shape)"
   ]
  },
  {
   "cell_type": "code",
   "execution_count": 415,
   "id": "2a7b6b8a",
   "metadata": {},
   "outputs": [],
   "source": [
    "Y_train = np.array(Y_train)\n",
    "Y_test = np.array(Y_test)"
   ]
  },
  {
   "cell_type": "code",
   "execution_count": 416,
   "id": "72a7a2dd",
   "metadata": {},
   "outputs": [
    {
     "data": {
      "text/html": [
       "<div>\n",
       "<style scoped>\n",
       "    .dataframe tbody tr th:only-of-type {\n",
       "        vertical-align: middle;\n",
       "    }\n",
       "\n",
       "    .dataframe tbody tr th {\n",
       "        vertical-align: top;\n",
       "    }\n",
       "\n",
       "    .dataframe thead th {\n",
       "        text-align: right;\n",
       "    }\n",
       "</style>\n",
       "<table border=\"1\" class=\"dataframe\">\n",
       "  <thead>\n",
       "    <tr style=\"text-align: right;\">\n",
       "      <th></th>\n",
       "      <th>0</th>\n",
       "      <th>1</th>\n",
       "      <th>2</th>\n",
       "      <th>3</th>\n",
       "    </tr>\n",
       "  </thead>\n",
       "  <tbody>\n",
       "    <tr>\n",
       "      <th>0</th>\n",
       "      <td>-0.272599</td>\n",
       "      <td>-0.419782</td>\n",
       "      <td>-0.144217</td>\n",
       "      <td>-1.287909</td>\n",
       "    </tr>\n",
       "    <tr>\n",
       "      <th>1</th>\n",
       "      <td>-0.272599</td>\n",
       "      <td>-0.417339</td>\n",
       "      <td>-0.740262</td>\n",
       "      <td>-0.593381</td>\n",
       "    </tr>\n",
       "    <tr>\n",
       "      <th>2</th>\n",
       "      <td>-0.272599</td>\n",
       "      <td>-0.417342</td>\n",
       "      <td>-0.740262</td>\n",
       "      <td>-0.593381</td>\n",
       "    </tr>\n",
       "    <tr>\n",
       "      <th>3</th>\n",
       "      <td>-0.272599</td>\n",
       "      <td>-0.416750</td>\n",
       "      <td>-0.835284</td>\n",
       "      <td>-1.306878</td>\n",
       "    </tr>\n",
       "    <tr>\n",
       "      <th>4</th>\n",
       "      <td>-0.272599</td>\n",
       "      <td>-0.412482</td>\n",
       "      <td>-0.835284</td>\n",
       "      <td>-1.306878</td>\n",
       "    </tr>\n",
       "  </tbody>\n",
       "</table>\n",
       "</div>"
      ],
      "text/plain": [
       "          0         1         2         3\n",
       "0 -0.272599 -0.419782 -0.144217 -1.287909\n",
       "1 -0.272599 -0.417339 -0.740262 -0.593381\n",
       "2 -0.272599 -0.417342 -0.740262 -0.593381\n",
       "3 -0.272599 -0.416750 -0.835284 -1.306878\n",
       "4 -0.272599 -0.412482 -0.835284 -1.306878"
      ]
     },
     "execution_count": 416,
     "metadata": {},
     "output_type": "execute_result"
    }
   ],
   "source": [
    "pd.DataFrame(X_train).head()"
   ]
  },
  {
   "cell_type": "code",
   "execution_count": 417,
   "id": "05f99d51",
   "metadata": {},
   "outputs": [
    {
     "name": "stderr",
     "output_type": "stream",
     "text": [
      "C:\\Users\\YASHASVI\\AppData\\Local\\Temp\\ipykernel_11896\\1848770221.py:1: MatplotlibDeprecationWarning: The seaborn styles shipped by Matplotlib are deprecated since 3.6, as they no longer correspond to the styles shipped by seaborn. However, they will remain available as 'seaborn-v0_8-<style>'. Alternatively, directly use the seaborn API instead.\n",
      "  plt.style.use('seaborn')\n"
     ]
    },
    {
     "data": {
      "text/plain": [
       "<matplotlib.collections.PathCollection at 0x1f373442710>"
      ]
     },
     "execution_count": 417,
     "metadata": {},
     "output_type": "execute_result"
    },
    {
     "data": {
      "image/png": "[encoded data removed]",
      "text/plain": [
       "<Figure size 800x550 with 1 Axes>"
      ]
     },
     "metadata": {},
     "output_type": "display_data"
    }
   ],
   "source": [
    "plt.style.use('seaborn')\n",
    "plt.scatter(X_train[:,1], Y_train)\n"
   ]
  },
  {
   "cell_type": "code",
   "execution_count": 418,
   "id": "fa6b1e30",
   "metadata": {},
   "outputs": [],
   "source": [
    "one = np.ones((X_train.shape[0], 1))"
   ]
  },
  {
   "cell_type": "code",
   "execution_count": 419,
   "id": "2603ae1b",
   "metadata": {},
   "outputs": [],
   "source": [
    "X_train = np.hstack((one, X_train))"
   ]
  },
  {
   "cell_type": "code",
   "execution_count": 420,
   "id": "e9a37eec",
   "metadata": {},
   "outputs": [
    {
     "data": {
      "text/plain": [
       "array([[ 1.        , -0.27259857, -0.41978194, -0.14421743, -1.2879095 ],\n",
       "       [ 1.        , -0.27259857, -0.41733926, -0.74026221, -0.59338101],\n",
       "       [ 1.        , -0.27259857, -0.41734159, -0.74026221, -0.59338101],\n",
       "       [ 1.        , -0.27259857, -0.41675042, -0.83528384, -1.30687771],\n",
       "       [ 1.        , -0.27259857, -0.41248185, -0.83528384, -1.30687771]])"
      ]
     },
     "execution_count": 420,
     "metadata": {},
     "output_type": "execute_result"
    }
   ],
   "source": [
    "X_train[:5,]"
   ]
  },
  {
   "cell_type": "markdown",
   "id": "d1a8deb8",
   "metadata": {},
   "source": [
    "# now apply linear regression on this dataset we obtain"
   ]
  },
  {
   "cell_type": "code",
   "execution_count": 421,
   "id": "d8cfce80",
   "metadata": {},
   "outputs": [],
   "source": [
    "def hypothesis(X,theta):\n",
    "    y_ = 0\n",
    "    n = X.shape[0]\n",
    "    for i in range(n):\n",
    "        y_ = theta[i]*X[i]\n",
    "    return y_    "
   ]
  },
  {
   "cell_type": "code",
   "execution_count": 422,
   "id": "b2875303",
   "metadata": {},
   "outputs": [],
   "source": [
    "def cost(X,theta):\n",
    "    m = X.shape[0]         #no of rows and there is only one element in it only\n",
    "    \n",
    "    total_loss = 0\n",
    "    for i in range(m):\n",
    "        y_p = hypothesis(X[i],theta)   #X[i] is a row contianing only one element\n",
    "        \n",
    "        y_gt = Y[i]\n",
    "        \n",
    "        total_loss += (y_p - y_gt)**2\n",
    "        \n",
    "    return total_loss/m   "
   ]
  },
  {
   "cell_type": "code",
   "execution_count": 423,
   "id": "c31060d6",
   "metadata": {},
   "outputs": [],
   "source": [
    "def gradient(X,Y,theta):\n",
    "    m,n = X.shape\n",
    "    \n",
    "    grad = np.zeros((n,))\n",
    "    \n",
    "    for j in range(n):\n",
    "        for i in range(m):\n",
    "            y_p = hypothesis(X[i], theta)\n",
    "            y_gt = Y[i]\n",
    "            \n",
    "            grad[j] += (y_p - y_gt)*X[i][j]\n",
    "    return grad/m\n",
    "        \n",
    "        "
   ]
  },
  {
   "cell_type": "code",
   "execution_count": 428,
   "id": "076a6b04",
   "metadata": {},
   "outputs": [],
   "source": [
    "def gradient_descent(X,Y, learning_rate = 0.003, epochs = 100):\n",
    "    m, n = X.shape\n",
    "    theta = np.zeros((n,))\n",
    "    cost_epoch = []\n",
    "    for i in range(epochs):\n",
    "        loss = cost(X,theta)\n",
    "        grad = gradient(X,Y,theta)\n",
    "        cost_epoch.append(loss)\n",
    "        \n",
    "        for j in range(n):\n",
    "             theta[j] = theta[j] - learning_rate*grad[j]\n",
    "                \n",
    "        return theta , cost_epoch       "
   ]
  },
  {
   "cell_type": "code",
   "execution_count": 429,
   "id": "44c484ae",
   "metadata": {},
   "outputs": [
    {
     "name": "stdout",
     "output_type": "stream",
     "text": [
      "(406, 5) (406,)\n"
     ]
    }
   ],
   "source": [
    "print(X_train.shape, Y_train.shape)"
   ]
  },
  {
   "cell_type": "code",
   "execution_count": 430,
   "id": "3a75b3c2",
   "metadata": {},
   "outputs": [],
   "source": [
    "theta , cost_epoch = gradient_descent(X, Y, learning_rate = 0.1, epochs = 1000)"
   ]
  },
  {
   "cell_type": "code",
   "execution_count": 431,
   "id": "622db597",
   "metadata": {},
   "outputs": [
    {
     "data": {
      "text/plain": [
       "array([ 2.40899015, -0.65517073,  0.60748901, -0.91017706,  0.30953634,\n",
       "       -0.76414416,  0.87918816, -0.62990211,  0.55196199, -0.91539804,\n",
       "       -1.02852959, -0.89342741,  0.67081485, -1.05465239])"
      ]
     },
     "execution_count": 431,
     "metadata": {},
     "output_type": "execute_result"
    }
   ],
   "source": [
    "theta"
   ]
  },
  {
   "cell_type": "code",
   "execution_count": 435,
   "id": "f0ab7368",
   "metadata": {},
   "outputs": [
    {
     "data": {
      "text/plain": [
       "[666.9598768472904]"
      ]
     },
     "execution_count": 435,
     "metadata": {},
     "output_type": "execute_result"
    }
   ],
   "source": [
    "cost_epoch"
   ]
  },
  {
   "cell_type": "code",
   "execution_count": null,
   "id": "901eae56",
   "metadata": {},
   "outputs": [],
   "source": []
  },
  {
   "cell_type": "code",
   "execution_count": null,
   "id": "ed30a89e",
   "metadata": {},
   "outputs": [],
   "source": []
  }
 ],
 "metadata": {
  "kernelspec": {
   "display_name": "Python 3 (ipykernel)",
   "language": "python",
   "name": "python3"
  },
  "language_info": {
   "codemirror_mode": {
    "name": "ipython",
    "version": 3
   },
   "file_extension": ".py",
   "mimetype": "text/x-python",
   "name": "python",
   "nbconvert_exporter": "python",
   "pygments_lexer": "ipython3",
   "version": "3.11.3"
  }
 },
 "nbformat": 4,
 "nbformat_minor": 5
}
